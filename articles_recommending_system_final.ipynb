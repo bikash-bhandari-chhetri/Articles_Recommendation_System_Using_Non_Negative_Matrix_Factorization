{
  "cells": [
    {
      "cell_type": "markdown",
      "id": "7e6596b7",
      "metadata": {
        "papermill": {
          "duration": 0.058051,
          "end_time": "2022-02-28T18:09:49.731232",
          "exception": false,
          "start_time": "2022-02-28T18:09:49.673181",
          "status": "completed"
        },
        "tags": [],
        "id": "7e6596b7"
      },
      "source": [
        "# Medium Articles Recommender System - Non-Negative Matrix Factorization\n",
        "Submitted to: Zahy Aziz (Big Data Tools)\n",
        "\n",
        "                                            Submitted by:\n",
        "                                            Anil Poudel(C0900334)\n",
        "                                            Anil Shrestha(C0899934)\n",
        "                                            Aruna Gurung (C0896129)\n",
        "                                            Bhawana Pathak (C0899371)\n",
        "                                            Gupta Bahadur Bhandari(C0899873)\n",
        "                                            Sabuz Rana(C0899377)\n",
        "                                            Suresh Mahat(C0900890)\n"
      ]
    },
    {
      "cell_type": "markdown",
      "id": "cbbb9527",
      "metadata": {
        "papermill": {
          "duration": 0.057393,
          "end_time": "2022-02-28T18:09:49.850990",
          "exception": false,
          "start_time": "2022-02-28T18:09:49.793597",
          "status": "completed"
        },
        "tags": [],
        "id": "cbbb9527"
      },
      "source": [
        "## Introduction:\n",
        "To build a recommendation system for Medium articles, we plan to use Non-Negative Matrix Factorization technique to group together articles that share similar topics. <br/>\n",
        "NMF: ML techniques used for dimensionality reduction and feature extraction in the field of linear algebra and data analysis. It is commonly used in data preprocessing, image processing, text mining and other application where underlying data can be represented as non-negative values.<br/>\n",
        "\n",
        "Before using NMF to build the ***Recommender System***, we have to perform some ***Natural Language Processing*** steps such as vectorizing data using TF-IDF. Also, we have perform ***Exploratory Data Analysis*** before diving into applying machine learning.<br/>\n",
        "Finally, we sort the results based on number of claps (likes), because we want to recommend to readers good articles in the same topic that they are currently reading/interested in.<br/>\n",
        "NLP particularly used for text analysis and topic modeling.<br/>\n",
        "TF-IDF(Term Frequency-Inverse Document Frequency): Numeric representation of the word within a collection of documnet in the field of information retrieval and text mining.\n"
      ]
    },
    {
      "cell_type": "markdown",
      "id": "6eaa4076",
      "metadata": {
        "papermill": {
          "duration": 0.061052,
          "end_time": "2022-02-28T18:09:49.970660",
          "exception": false,
          "start_time": "2022-02-28T18:09:49.909608",
          "status": "completed"
        },
        "tags": [],
        "id": "6eaa4076"
      },
      "source": [
        "### Plan\n",
        "1. Exploratory Data Analysis and Data visualization\n",
        "2.Feature Engineering and Data Pre-Processing\n",
        "3. Recommending System Building\n",
        "4. Testing  the system\n",
        "\n",
        "\n"
      ]
    },
    {
      "cell_type": "markdown",
      "id": "7000dab6",
      "metadata": {
        "papermill": {
          "duration": 0.067342,
          "end_time": "2022-02-28T18:09:50.098065",
          "exception": false,
          "start_time": "2022-02-28T18:09:50.030723",
          "status": "completed"
        },
        "tags": [],
        "id": "7000dab6"
      },
      "source": [
        "### Data and Library importing"
      ]
    },
    {
      "cell_type": "code",
      "execution_count": 124,
      "id": "109d06be",
      "metadata": {
        "_cell_guid": "b1076dfc-b9ad-4769-8c92-a6c4dae69d19",
        "_uuid": "8f2839f25d086af736a60e9eeb907d3b93b6e0e5",
        "execution": {
          "iopub.execute_input": "2022-02-28T18:09:50.241801Z",
          "iopub.status.busy": "2022-02-28T18:09:50.241275Z",
          "iopub.status.idle": "2022-02-28T18:09:51.434307Z",
          "shell.execute_reply": "2022-02-28T18:09:51.434849Z",
          "shell.execute_reply.started": "2022-02-28T18:08:42.429031Z"
        },
        "papermill": {
          "duration": 1.262821,
          "end_time": "2022-02-28T18:09:51.435169",
          "exception": false,
          "start_time": "2022-02-28T18:09:50.172348",
          "status": "completed"
        },
        "tags": [],
        "id": "109d06be"
      },
      "outputs": [],
      "source": [
        "# Basic Data Libraries\n",
        "import numpy as np\n",
        "import pandas as pd\n",
        "\n",
        "# Data Visualization\n",
        "import matplotlib.pyplot as plt\n",
        "import seaborn as sns\n",
        "\n",
        "# RegEx\n",
        "import re\n",
        "\n",
        "# Pre processing and NMF\n",
        "from sklearn.feature_extraction.text import TfidfVectorizer\n",
        "from sklearn.preprocessing import normalize\n",
        "from sklearn.decomposition import NMF"
      ]
    },
    {
      "cell_type": "code",
      "execution_count": 125,
      "id": "77545721",
      "metadata": {
        "execution": {
          "iopub.execute_input": "2022-02-28T18:09:51.550535Z",
          "iopub.status.busy": "2022-02-28T18:09:51.549680Z",
          "iopub.status.idle": "2022-02-28T18:09:51.554416Z",
          "shell.execute_reply": "2022-02-28T18:09:51.553783Z",
          "shell.execute_reply.started": "2022-02-28T18:08:42.439254Z"
        },
        "papermill": {
          "duration": 0.064021,
          "end_time": "2022-02-28T18:09:51.554553",
          "exception": false,
          "start_time": "2022-02-28T18:09:51.490532",
          "status": "completed"
        },
        "tags": [],
        "id": "77545721"
      },
      "outputs": [],
      "source": [
        "# changes the default size of the figures to have a width of 8 inches and a height of 6 inches\n",
        "plt.rcParams['figure.figsize'] = (8,6)"
      ]
    },
    {
      "cell_type": "code",
      "execution_count": 126,
      "id": "cb8d2839",
      "metadata": {
        "execution": {
          "iopub.execute_input": "2022-02-28T18:09:51.674764Z",
          "iopub.status.busy": "2022-02-28T18:09:51.674145Z",
          "iopub.status.idle": "2022-02-28T18:09:51.789788Z",
          "shell.execute_reply": "2022-02-28T18:09:51.790332Z",
          "shell.execute_reply.started": "2022-02-28T18:08:42.452408Z"
        },
        "papermill": {
          "duration": 0.176047,
          "end_time": "2022-02-28T18:09:51.790490",
          "exception": false,
          "start_time": "2022-02-28T18:09:51.614443",
          "status": "completed"
        },
        "tags": [],
        "colab": {
          "base_uri": "https://localhost:8080/",
          "height": 337
        },
        "id": "cb8d2839",
        "outputId": "77783019-db48-4f01-a7be-ef0cea45303d"
      },
      "outputs": [
        {
          "output_type": "execute_result",
          "data": {
            "text/plain": [
              "   id                                                url  \\\n",
              "0   1  https://towardsdatascience.com/a-beginners-gui...   \n",
              "1   2  https://towardsdatascience.com/hands-on-graph-...   \n",
              "2   3  https://towardsdatascience.com/how-to-use-ggpl...   \n",
              "3   4  https://towardsdatascience.com/databricks-how-...   \n",
              "4   5  https://towardsdatascience.com/a-step-by-step-...   \n",
              "\n",
              "                                               title  \\\n",
              "0  A Beginner’s Guide to Word Embedding with Gens...   \n",
              "1  Hands-on Graph Neural Networks with PyTorch & ...   \n",
              "2                       How to Use ggplot2 in Python   \n",
              "3  Databricks: How to Save Files in CSV on Your L...   \n",
              "4  A Step-by-Step Implementation of Gradient Desc...   \n",
              "\n",
              "                                  subtitle   image  claps responses  \\\n",
              "0                                      NaN   1.png    850         8   \n",
              "1                                      NaN   2.png   1100        11   \n",
              "2         A Grammar of Graphics for Python   3.png    767         1   \n",
              "3  When I work on Python projects dealing…  4.jpeg    354         0   \n",
              "4          One example of building neural…  5.jpeg    211         3   \n",
              "\n",
              "   reading_time           publication        date  \n",
              "0             8  Towards Data Science  2019-05-30  \n",
              "1             9  Towards Data Science  2019-05-30  \n",
              "2             5  Towards Data Science  2019-05-30  \n",
              "3             4  Towards Data Science  2019-05-30  \n",
              "4             4  Towards Data Science  2019-05-30  "
            ],
            "text/html": [
              "\n",
              "\n",
              "  <div id=\"df-695ff4de-80c1-40e7-bbbe-5c8590703cc8\">\n",
              "    <div class=\"colab-df-container\">\n",
              "      <div>\n",
              "<style scoped>\n",
              "    .dataframe tbody tr th:only-of-type {\n",
              "        vertical-align: middle;\n",
              "    }\n",
              "\n",
              "    .dataframe tbody tr th {\n",
              "        vertical-align: top;\n",
              "    }\n",
              "\n",
              "    .dataframe thead th {\n",
              "        text-align: right;\n",
              "    }\n",
              "</style>\n",
              "<table border=\"1\" class=\"dataframe\">\n",
              "  <thead>\n",
              "    <tr style=\"text-align: right;\">\n",
              "      <th></th>\n",
              "      <th>id</th>\n",
              "      <th>url</th>\n",
              "      <th>title</th>\n",
              "      <th>subtitle</th>\n",
              "      <th>image</th>\n",
              "      <th>claps</th>\n",
              "      <th>responses</th>\n",
              "      <th>reading_time</th>\n",
              "      <th>publication</th>\n",
              "      <th>date</th>\n",
              "    </tr>\n",
              "  </thead>\n",
              "  <tbody>\n",
              "    <tr>\n",
              "      <th>0</th>\n",
              "      <td>1</td>\n",
              "      <td>https://towardsdatascience.com/a-beginners-gui...</td>\n",
              "      <td>A Beginner’s Guide to Word Embedding with Gens...</td>\n",
              "      <td>NaN</td>\n",
              "      <td>1.png</td>\n",
              "      <td>850</td>\n",
              "      <td>8</td>\n",
              "      <td>8</td>\n",
              "      <td>Towards Data Science</td>\n",
              "      <td>2019-05-30</td>\n",
              "    </tr>\n",
              "    <tr>\n",
              "      <th>1</th>\n",
              "      <td>2</td>\n",
              "      <td>https://towardsdatascience.com/hands-on-graph-...</td>\n",
              "      <td>Hands-on Graph Neural Networks with PyTorch &amp; ...</td>\n",
              "      <td>NaN</td>\n",
              "      <td>2.png</td>\n",
              "      <td>1100</td>\n",
              "      <td>11</td>\n",
              "      <td>9</td>\n",
              "      <td>Towards Data Science</td>\n",
              "      <td>2019-05-30</td>\n",
              "    </tr>\n",
              "    <tr>\n",
              "      <th>2</th>\n",
              "      <td>3</td>\n",
              "      <td>https://towardsdatascience.com/how-to-use-ggpl...</td>\n",
              "      <td>How to Use ggplot2 in Python</td>\n",
              "      <td>A Grammar of Graphics for Python</td>\n",
              "      <td>3.png</td>\n",
              "      <td>767</td>\n",
              "      <td>1</td>\n",
              "      <td>5</td>\n",
              "      <td>Towards Data Science</td>\n",
              "      <td>2019-05-30</td>\n",
              "    </tr>\n",
              "    <tr>\n",
              "      <th>3</th>\n",
              "      <td>4</td>\n",
              "      <td>https://towardsdatascience.com/databricks-how-...</td>\n",
              "      <td>Databricks: How to Save Files in CSV on Your L...</td>\n",
              "      <td>When I work on Python projects dealing…</td>\n",
              "      <td>4.jpeg</td>\n",
              "      <td>354</td>\n",
              "      <td>0</td>\n",
              "      <td>4</td>\n",
              "      <td>Towards Data Science</td>\n",
              "      <td>2019-05-30</td>\n",
              "    </tr>\n",
              "    <tr>\n",
              "      <th>4</th>\n",
              "      <td>5</td>\n",
              "      <td>https://towardsdatascience.com/a-step-by-step-...</td>\n",
              "      <td>A Step-by-Step Implementation of Gradient Desc...</td>\n",
              "      <td>One example of building neural…</td>\n",
              "      <td>5.jpeg</td>\n",
              "      <td>211</td>\n",
              "      <td>3</td>\n",
              "      <td>4</td>\n",
              "      <td>Towards Data Science</td>\n",
              "      <td>2019-05-30</td>\n",
              "    </tr>\n",
              "  </tbody>\n",
              "</table>\n",
              "</div>\n",
              "      <button class=\"colab-df-convert\" onclick=\"convertToInteractive('df-695ff4de-80c1-40e7-bbbe-5c8590703cc8')\"\n",
              "              title=\"Convert this dataframe to an interactive table.\"\n",
              "              style=\"display:none;\">\n",
              "\n",
              "  <svg xmlns=\"http://www.w3.org/2000/svg\" height=\"24px\"viewBox=\"0 0 24 24\"\n",
              "       width=\"24px\">\n",
              "    <path d=\"M0 0h24v24H0V0z\" fill=\"none\"/>\n",
              "    <path d=\"M18.56 5.44l.94 2.06.94-2.06 2.06-.94-2.06-.94-.94-2.06-.94 2.06-2.06.94zm-11 1L8.5 8.5l.94-2.06 2.06-.94-2.06-.94L8.5 2.5l-.94 2.06-2.06.94zm10 10l.94 2.06.94-2.06 2.06-.94-2.06-.94-.94-2.06-.94 2.06-2.06.94z\"/><path d=\"M17.41 7.96l-1.37-1.37c-.4-.4-.92-.59-1.43-.59-.52 0-1.04.2-1.43.59L10.3 9.45l-7.72 7.72c-.78.78-.78 2.05 0 2.83L4 21.41c.39.39.9.59 1.41.59.51 0 1.02-.2 1.41-.59l7.78-7.78 2.81-2.81c.8-.78.8-2.07 0-2.86zM5.41 20L4 18.59l7.72-7.72 1.47 1.35L5.41 20z\"/>\n",
              "  </svg>\n",
              "      </button>\n",
              "\n",
              "\n",
              "\n",
              "    <div id=\"df-c8514660-587d-4a33-9af9-f38224af9e2f\">\n",
              "      <button class=\"colab-df-quickchart\" onclick=\"quickchart('df-c8514660-587d-4a33-9af9-f38224af9e2f')\"\n",
              "              title=\"Suggest charts.\"\n",
              "              style=\"display:none;\">\n",
              "\n",
              "<svg xmlns=\"http://www.w3.org/2000/svg\" height=\"24px\"viewBox=\"0 0 24 24\"\n",
              "     width=\"24px\">\n",
              "    <g>\n",
              "        <path d=\"M19 3H5c-1.1 0-2 .9-2 2v14c0 1.1.9 2 2 2h14c1.1 0 2-.9 2-2V5c0-1.1-.9-2-2-2zM9 17H7v-7h2v7zm4 0h-2V7h2v10zm4 0h-2v-4h2v4z\"/>\n",
              "    </g>\n",
              "</svg>\n",
              "      </button>\n",
              "    </div>\n",
              "\n",
              "<style>\n",
              "  .colab-df-quickchart {\n",
              "    background-color: #E8F0FE;\n",
              "    border: none;\n",
              "    border-radius: 50%;\n",
              "    cursor: pointer;\n",
              "    display: none;\n",
              "    fill: #1967D2;\n",
              "    height: 32px;\n",
              "    padding: 0 0 0 0;\n",
              "    width: 32px;\n",
              "  }\n",
              "\n",
              "  .colab-df-quickchart:hover {\n",
              "    background-color: #E2EBFA;\n",
              "    box-shadow: 0px 1px 2px rgba(60, 64, 67, 0.3), 0px 1px 3px 1px rgba(60, 64, 67, 0.15);\n",
              "    fill: #174EA6;\n",
              "  }\n",
              "\n",
              "  [theme=dark] .colab-df-quickchart {\n",
              "    background-color: #3B4455;\n",
              "    fill: #D2E3FC;\n",
              "  }\n",
              "\n",
              "  [theme=dark] .colab-df-quickchart:hover {\n",
              "    background-color: #434B5C;\n",
              "    box-shadow: 0px 1px 3px 1px rgba(0, 0, 0, 0.15);\n",
              "    filter: drop-shadow(0px 1px 2px rgba(0, 0, 0, 0.3));\n",
              "    fill: #FFFFFF;\n",
              "  }\n",
              "</style>\n",
              "\n",
              "    <script>\n",
              "      async function quickchart(key) {\n",
              "        const containerElement = document.querySelector('#' + key);\n",
              "        const charts = await google.colab.kernel.invokeFunction(\n",
              "            'suggestCharts', [key], {});\n",
              "      }\n",
              "    </script>\n",
              "\n",
              "      <script>\n",
              "\n",
              "function displayQuickchartButton(domScope) {\n",
              "  let quickchartButtonEl =\n",
              "    domScope.querySelector('#df-c8514660-587d-4a33-9af9-f38224af9e2f button.colab-df-quickchart');\n",
              "  quickchartButtonEl.style.display =\n",
              "    google.colab.kernel.accessAllowed ? 'block' : 'none';\n",
              "}\n",
              "\n",
              "        displayQuickchartButton(document);\n",
              "      </script>\n",
              "      <style>\n",
              "    .colab-df-container {\n",
              "      display:flex;\n",
              "      flex-wrap:wrap;\n",
              "      gap: 12px;\n",
              "    }\n",
              "\n",
              "    .colab-df-convert {\n",
              "      background-color: #E8F0FE;\n",
              "      border: none;\n",
              "      border-radius: 50%;\n",
              "      cursor: pointer;\n",
              "      display: none;\n",
              "      fill: #1967D2;\n",
              "      height: 32px;\n",
              "      padding: 0 0 0 0;\n",
              "      width: 32px;\n",
              "    }\n",
              "\n",
              "    .colab-df-convert:hover {\n",
              "      background-color: #E2EBFA;\n",
              "      box-shadow: 0px 1px 2px rgba(60, 64, 67, 0.3), 0px 1px 3px 1px rgba(60, 64, 67, 0.15);\n",
              "      fill: #174EA6;\n",
              "    }\n",
              "\n",
              "    [theme=dark] .colab-df-convert {\n",
              "      background-color: #3B4455;\n",
              "      fill: #D2E3FC;\n",
              "    }\n",
              "\n",
              "    [theme=dark] .colab-df-convert:hover {\n",
              "      background-color: #434B5C;\n",
              "      box-shadow: 0px 1px 3px 1px rgba(0, 0, 0, 0.15);\n",
              "      filter: drop-shadow(0px 1px 2px rgba(0, 0, 0, 0.3));\n",
              "      fill: #FFFFFF;\n",
              "    }\n",
              "  </style>\n",
              "\n",
              "      <script>\n",
              "        const buttonEl =\n",
              "          document.querySelector('#df-695ff4de-80c1-40e7-bbbe-5c8590703cc8 button.colab-df-convert');\n",
              "        buttonEl.style.display =\n",
              "          google.colab.kernel.accessAllowed ? 'block' : 'none';\n",
              "\n",
              "        async function convertToInteractive(key) {\n",
              "          const element = document.querySelector('#df-695ff4de-80c1-40e7-bbbe-5c8590703cc8');\n",
              "          const dataTable =\n",
              "            await google.colab.kernel.invokeFunction('convertToInteractive',\n",
              "                                                     [key], {});\n",
              "          if (!dataTable) return;\n",
              "\n",
              "          const docLinkHtml = 'Like what you see? Visit the ' +\n",
              "            '<a target=\"_blank\" href=https://colab.research.google.com/notebooks/data_table.ipynb>data table notebook</a>'\n",
              "            + ' to learn more about interactive tables.';\n",
              "          element.innerHTML = '';\n",
              "          dataTable['output_type'] = 'display_data';\n",
              "          await google.colab.output.renderOutput(dataTable, element);\n",
              "          const docLink = document.createElement('div');\n",
              "          docLink.innerHTML = docLinkHtml;\n",
              "          element.appendChild(docLink);\n",
              "        }\n",
              "      </script>\n",
              "    </div>\n",
              "  </div>\n"
            ]
          },
          "metadata": {},
          "execution_count": 126
        }
      ],
      "source": [
        "my_data = pd.read_csv(\"/content/medium_data.csv\")\n",
        "my_data.head()"
      ]
    },
    {
      "cell_type": "code",
      "source": [
        "my_data.iloc[1003].title"
      ],
      "metadata": {
        "colab": {
          "base_uri": "https://localhost:8080/",
          "height": 35
        },
        "id": "wkqwmTikj1io",
        "outputId": "6e93f588-7561-4534-bf84-f6ff71821b7d"
      },
      "id": "wkqwmTikj1io",
      "execution_count": 127,
      "outputs": [
        {
          "output_type": "execute_result",
          "data": {
            "text/plain": [
              "'<strong class=\"markup--strong markup--h3-strong\">If You Learn to Write, You Can Change Your\\xa0Life.</strong>'"
            ],
            "application/vnd.google.colaboratory.intrinsic+json": {
              "type": "string"
            }
          },
          "metadata": {},
          "execution_count": 127
        }
      ]
    },
    {
      "cell_type": "code",
      "execution_count": 128,
      "id": "19180ea5",
      "metadata": {
        "execution": {
          "iopub.execute_input": "2022-02-28T18:09:51.920130Z",
          "iopub.status.busy": "2022-02-28T18:09:51.919535Z",
          "iopub.status.idle": "2022-02-28T18:09:51.927525Z",
          "shell.execute_reply": "2022-02-28T18:09:51.928116Z",
          "shell.execute_reply.started": "2022-02-28T18:08:42.517113Z"
        },
        "papermill": {
          "duration": 0.074029,
          "end_time": "2022-02-28T18:09:51.928287",
          "exception": false,
          "start_time": "2022-02-28T18:09:51.854258",
          "status": "completed"
        },
        "tags": [],
        "colab": {
          "base_uri": "https://localhost:8080/"
        },
        "id": "19180ea5",
        "outputId": "ba9a745e-cbcc-45e1-e73e-ba98dd6a1764"
      },
      "outputs": [
        {
          "output_type": "execute_result",
          "data": {
            "text/plain": [
              "1000          6 lessons I learned as a freelance designer\n",
              "1001    <strong class=\"markup--strong markup--h3-stron...\n",
              "1002             Why sketching can be your unicorn skill.\n",
              "1003    <strong class=\"markup--strong markup--h3-stron...\n",
              "1004    The Power of Letting Go: How Surrendering Cont...\n",
              "1005    How to Use the useReducer React Hook to Share ...\n",
              "Name: title, dtype: object"
            ]
          },
          "metadata": {},
          "execution_count": 128
        }
      ],
      "source": [
        "my_data.loc[1000:1005].title"
      ]
    },
    {
      "cell_type": "markdown",
      "id": "e072192f",
      "metadata": {
        "papermill": {
          "duration": 0.060612,
          "end_time": "2022-02-28T18:09:52.048448",
          "exception": false,
          "start_time": "2022-02-28T18:09:51.987836",
          "status": "completed"
        },
        "tags": [],
        "id": "e072192f"
      },
      "source": [
        "## Exploratory Data Analysis and Data Visualization"
      ]
    },
    {
      "cell_type": "markdown",
      "id": "16e9901b",
      "metadata": {
        "papermill": {
          "duration": 0.06021,
          "end_time": "2022-02-28T18:09:52.168123",
          "exception": false,
          "start_time": "2022-02-28T18:09:52.107913",
          "status": "completed"
        },
        "tags": [],
        "id": "16e9901b"
      },
      "source": [
        "Sanity check using info method, to see if the data has any missing values and/or wrong data types:"
      ]
    },
    {
      "cell_type": "code",
      "execution_count": 129,
      "id": "fc6bf202",
      "metadata": {
        "execution": {
          "iopub.execute_input": "2022-02-28T18:09:52.286509Z",
          "iopub.status.busy": "2022-02-28T18:09:52.285918Z",
          "iopub.status.idle": "2022-02-28T18:09:52.309672Z",
          "shell.execute_reply": "2022-02-28T18:09:52.309053Z",
          "shell.execute_reply.started": "2022-02-28T18:08:42.526517Z"
        },
        "papermill": {
          "duration": 0.083912,
          "end_time": "2022-02-28T18:09:52.309804",
          "exception": false,
          "start_time": "2022-02-28T18:09:52.225892",
          "status": "completed"
        },
        "tags": [],
        "colab": {
          "base_uri": "https://localhost:8080/"
        },
        "id": "fc6bf202",
        "outputId": "241e6eb1-e128-47c7-bfda-562a3e34e806"
      },
      "outputs": [
        {
          "output_type": "stream",
          "name": "stdout",
          "text": [
            "<class 'pandas.core.frame.DataFrame'>\n",
            "RangeIndex: 6508 entries, 0 to 6507\n",
            "Data columns (total 10 columns):\n",
            " #   Column        Non-Null Count  Dtype \n",
            "---  ------        --------------  ----- \n",
            " 0   id            6508 non-null   int64 \n",
            " 1   url           6508 non-null   object\n",
            " 2   title         6508 non-null   object\n",
            " 3   subtitle      3479 non-null   object\n",
            " 4   image         6361 non-null   object\n",
            " 5   claps         6508 non-null   int64 \n",
            " 6   responses     6508 non-null   object\n",
            " 7   reading_time  6508 non-null   int64 \n",
            " 8   publication   6508 non-null   object\n",
            " 9   date          6508 non-null   object\n",
            "dtypes: int64(3), object(7)\n",
            "memory usage: 508.6+ KB\n"
          ]
        }
      ],
      "source": [
        "#showing dataframe information\n",
        "my_data.info()"
      ]
    },
    {
      "cell_type": "code",
      "source": [
        "#counting the number of missing null values in dataframe\n",
        "my_data.isnull().sum()"
      ],
      "metadata": {
        "colab": {
          "base_uri": "https://localhost:8080/"
        },
        "id": "XWXYiogakoia",
        "outputId": "cf9fe8ed-ad74-4283-b6bf-bcdead0ff6ef"
      },
      "id": "XWXYiogakoia",
      "execution_count": 130,
      "outputs": [
        {
          "output_type": "execute_result",
          "data": {
            "text/plain": [
              "id                 0\n",
              "url                0\n",
              "title              0\n",
              "subtitle        3029\n",
              "image            147\n",
              "claps              0\n",
              "responses          0\n",
              "reading_time       0\n",
              "publication        0\n",
              "date               0\n",
              "dtype: int64"
            ]
          },
          "metadata": {},
          "execution_count": 130
        }
      ]
    },
    {
      "cell_type": "markdown",
      "id": "7cdc9d76",
      "metadata": {
        "papermill": {
          "duration": 0.058527,
          "end_time": "2022-02-28T18:09:52.427862",
          "exception": false,
          "start_time": "2022-02-28T18:09:52.369335",
          "status": "completed"
        },
        "tags": [],
        "id": "7cdc9d76"
      },
      "source": [
        "#### Data types\n",
        "**responses:** This column needs to be an integer, after a quick check, we found that the column contains a \"Read\" value, which needs to be dropped. <br/>\n",
        "**date:** we do not plan to use date column, but it might be an option in the future to recommend only most recent articles, so we will be fixing this data type.\n",
        "#### Missing values\n",
        "We can see that subtitle column has multiple missing values, which we will be treating in the pre processing section. Finally, image column has missing values too, but we won't be using to whatsoever, so it is okay to just drop it."
      ]
    },
    {
      "cell_type": "code",
      "execution_count": 131,
      "id": "cca40ad4",
      "metadata": {
        "execution": {
          "iopub.execute_input": "2022-02-28T18:09:52.548409Z",
          "iopub.status.busy": "2022-02-28T18:09:52.547523Z",
          "iopub.status.idle": "2022-02-28T18:09:52.553623Z",
          "shell.execute_reply": "2022-02-28T18:09:52.554266Z",
          "shell.execute_reply.started": "2022-02-28T18:08:42.548460Z"
        },
        "papermill": {
          "duration": 0.067743,
          "end_time": "2022-02-28T18:09:52.554418",
          "exception": false,
          "start_time": "2022-02-28T18:09:52.486675",
          "status": "completed"
        },
        "tags": [],
        "colab": {
          "base_uri": "https://localhost:8080/"
        },
        "id": "cca40ad4",
        "outputId": "50f3aef3-6e0e-4939-ce36-ab6ee325e29f"
      },
      "outputs": [
        {
          "output_type": "execute_result",
          "data": {
            "text/plain": [
              "array(['8', '11', '1', '0', '3', '2', '60', '27', '58', '13', '6', '15',\n",
              "       '5', '4', '19', '10', '9', '7', '16', '76', '33', '21', '28', '14',\n",
              "       '24', '17', '78', '30', '12', '74', '50', '18', '22', '48', '26',\n",
              "       '20', '35', '51', '25', '62', '53', '120', '41', 'Read', '34',\n",
              "       '86', '82', '63', '46', '170', '45', '23', '32', '29', '52', '117'],\n",
              "      dtype=object)"
            ]
          },
          "metadata": {},
          "execution_count": 131
        }
      ],
      "source": [
        "#returning unique value of response column of dataframe\n",
        "my_data[\"responses\"].unique()"
      ]
    },
    {
      "cell_type": "code",
      "execution_count": 132,
      "id": "19b981f0",
      "metadata": {
        "execution": {
          "iopub.execute_input": "2022-02-28T18:09:52.673613Z",
          "iopub.status.busy": "2022-02-28T18:09:52.672683Z",
          "iopub.status.idle": "2022-02-28T18:09:52.686333Z",
          "shell.execute_reply": "2022-02-28T18:09:52.686748Z",
          "shell.execute_reply.started": "2022-02-28T18:08:42.556968Z"
        },
        "papermill": {
          "duration": 0.075662,
          "end_time": "2022-02-28T18:09:52.686897",
          "exception": false,
          "start_time": "2022-02-28T18:09:52.611235",
          "status": "completed"
        },
        "tags": [],
        "colab": {
          "base_uri": "https://localhost:8080/",
          "height": 190
        },
        "id": "19b981f0",
        "outputId": "07b74f05-b1cf-4e4d-ba01-664f061a64e7"
      },
      "outputs": [
        {
          "output_type": "execute_result",
          "data": {
            "text/plain": [
              "        id                                                url  \\\n",
              "3977  3978  https://medium.com/datadriveninvestor/what-do-...   \n",
              "6392  6393  https://uxdesign.cc/please-please-please-tell-...   \n",
              "\n",
              "                                                  title subtitle     image  \\\n",
              "3977  What do you think of the Open Group’s Data Sci...      NaN  3978.jpg   \n",
              "6392     UX doesn’t discriminate, it targets behaviours      NaN       NaN   \n",
              "\n",
              "      claps responses  reading_time           publication        date  \n",
              "3977     73      Read             3  Data Driven Investor  2019-05-24  \n",
              "6392     74      Read             5         UX Collective  2019-12-05  "
            ],
            "text/html": [
              "\n",
              "\n",
              "  <div id=\"df-3eee2529-621c-4123-b4cd-c501e59fef3f\">\n",
              "    <div class=\"colab-df-container\">\n",
              "      <div>\n",
              "<style scoped>\n",
              "    .dataframe tbody tr th:only-of-type {\n",
              "        vertical-align: middle;\n",
              "    }\n",
              "\n",
              "    .dataframe tbody tr th {\n",
              "        vertical-align: top;\n",
              "    }\n",
              "\n",
              "    .dataframe thead th {\n",
              "        text-align: right;\n",
              "    }\n",
              "</style>\n",
              "<table border=\"1\" class=\"dataframe\">\n",
              "  <thead>\n",
              "    <tr style=\"text-align: right;\">\n",
              "      <th></th>\n",
              "      <th>id</th>\n",
              "      <th>url</th>\n",
              "      <th>title</th>\n",
              "      <th>subtitle</th>\n",
              "      <th>image</th>\n",
              "      <th>claps</th>\n",
              "      <th>responses</th>\n",
              "      <th>reading_time</th>\n",
              "      <th>publication</th>\n",
              "      <th>date</th>\n",
              "    </tr>\n",
              "  </thead>\n",
              "  <tbody>\n",
              "    <tr>\n",
              "      <th>3977</th>\n",
              "      <td>3978</td>\n",
              "      <td>https://medium.com/datadriveninvestor/what-do-...</td>\n",
              "      <td>What do you think of the Open Group’s Data Sci...</td>\n",
              "      <td>NaN</td>\n",
              "      <td>3978.jpg</td>\n",
              "      <td>73</td>\n",
              "      <td>Read</td>\n",
              "      <td>3</td>\n",
              "      <td>Data Driven Investor</td>\n",
              "      <td>2019-05-24</td>\n",
              "    </tr>\n",
              "    <tr>\n",
              "      <th>6392</th>\n",
              "      <td>6393</td>\n",
              "      <td>https://uxdesign.cc/please-please-please-tell-...</td>\n",
              "      <td>UX doesn’t discriminate, it targets behaviours</td>\n",
              "      <td>NaN</td>\n",
              "      <td>NaN</td>\n",
              "      <td>74</td>\n",
              "      <td>Read</td>\n",
              "      <td>5</td>\n",
              "      <td>UX Collective</td>\n",
              "      <td>2019-12-05</td>\n",
              "    </tr>\n",
              "  </tbody>\n",
              "</table>\n",
              "</div>\n",
              "      <button class=\"colab-df-convert\" onclick=\"convertToInteractive('df-3eee2529-621c-4123-b4cd-c501e59fef3f')\"\n",
              "              title=\"Convert this dataframe to an interactive table.\"\n",
              "              style=\"display:none;\">\n",
              "\n",
              "  <svg xmlns=\"http://www.w3.org/2000/svg\" height=\"24px\"viewBox=\"0 0 24 24\"\n",
              "       width=\"24px\">\n",
              "    <path d=\"M0 0h24v24H0V0z\" fill=\"none\"/>\n",
              "    <path d=\"M18.56 5.44l.94 2.06.94-2.06 2.06-.94-2.06-.94-.94-2.06-.94 2.06-2.06.94zm-11 1L8.5 8.5l.94-2.06 2.06-.94-2.06-.94L8.5 2.5l-.94 2.06-2.06.94zm10 10l.94 2.06.94-2.06 2.06-.94-2.06-.94-.94-2.06-.94 2.06-2.06.94z\"/><path d=\"M17.41 7.96l-1.37-1.37c-.4-.4-.92-.59-1.43-.59-.52 0-1.04.2-1.43.59L10.3 9.45l-7.72 7.72c-.78.78-.78 2.05 0 2.83L4 21.41c.39.39.9.59 1.41.59.51 0 1.02-.2 1.41-.59l7.78-7.78 2.81-2.81c.8-.78.8-2.07 0-2.86zM5.41 20L4 18.59l7.72-7.72 1.47 1.35L5.41 20z\"/>\n",
              "  </svg>\n",
              "      </button>\n",
              "\n",
              "\n",
              "\n",
              "    <div id=\"df-e448b772-33a2-4bd6-be10-44552f3c6594\">\n",
              "      <button class=\"colab-df-quickchart\" onclick=\"quickchart('df-e448b772-33a2-4bd6-be10-44552f3c6594')\"\n",
              "              title=\"Suggest charts.\"\n",
              "              style=\"display:none;\">\n",
              "\n",
              "<svg xmlns=\"http://www.w3.org/2000/svg\" height=\"24px\"viewBox=\"0 0 24 24\"\n",
              "     width=\"24px\">\n",
              "    <g>\n",
              "        <path d=\"M19 3H5c-1.1 0-2 .9-2 2v14c0 1.1.9 2 2 2h14c1.1 0 2-.9 2-2V5c0-1.1-.9-2-2-2zM9 17H7v-7h2v7zm4 0h-2V7h2v10zm4 0h-2v-4h2v4z\"/>\n",
              "    </g>\n",
              "</svg>\n",
              "      </button>\n",
              "    </div>\n",
              "\n",
              "<style>\n",
              "  .colab-df-quickchart {\n",
              "    background-color: #E8F0FE;\n",
              "    border: none;\n",
              "    border-radius: 50%;\n",
              "    cursor: pointer;\n",
              "    display: none;\n",
              "    fill: #1967D2;\n",
              "    height: 32px;\n",
              "    padding: 0 0 0 0;\n",
              "    width: 32px;\n",
              "  }\n",
              "\n",
              "  .colab-df-quickchart:hover {\n",
              "    background-color: #E2EBFA;\n",
              "    box-shadow: 0px 1px 2px rgba(60, 64, 67, 0.3), 0px 1px 3px 1px rgba(60, 64, 67, 0.15);\n",
              "    fill: #174EA6;\n",
              "  }\n",
              "\n",
              "  [theme=dark] .colab-df-quickchart {\n",
              "    background-color: #3B4455;\n",
              "    fill: #D2E3FC;\n",
              "  }\n",
              "\n",
              "  [theme=dark] .colab-df-quickchart:hover {\n",
              "    background-color: #434B5C;\n",
              "    box-shadow: 0px 1px 3px 1px rgba(0, 0, 0, 0.15);\n",
              "    filter: drop-shadow(0px 1px 2px rgba(0, 0, 0, 0.3));\n",
              "    fill: #FFFFFF;\n",
              "  }\n",
              "</style>\n",
              "\n",
              "    <script>\n",
              "      async function quickchart(key) {\n",
              "        const containerElement = document.querySelector('#' + key);\n",
              "        const charts = await google.colab.kernel.invokeFunction(\n",
              "            'suggestCharts', [key], {});\n",
              "      }\n",
              "    </script>\n",
              "\n",
              "      <script>\n",
              "\n",
              "function displayQuickchartButton(domScope) {\n",
              "  let quickchartButtonEl =\n",
              "    domScope.querySelector('#df-e448b772-33a2-4bd6-be10-44552f3c6594 button.colab-df-quickchart');\n",
              "  quickchartButtonEl.style.display =\n",
              "    google.colab.kernel.accessAllowed ? 'block' : 'none';\n",
              "}\n",
              "\n",
              "        displayQuickchartButton(document);\n",
              "      </script>\n",
              "      <style>\n",
              "    .colab-df-container {\n",
              "      display:flex;\n",
              "      flex-wrap:wrap;\n",
              "      gap: 12px;\n",
              "    }\n",
              "\n",
              "    .colab-df-convert {\n",
              "      background-color: #E8F0FE;\n",
              "      border: none;\n",
              "      border-radius: 50%;\n",
              "      cursor: pointer;\n",
              "      display: none;\n",
              "      fill: #1967D2;\n",
              "      height: 32px;\n",
              "      padding: 0 0 0 0;\n",
              "      width: 32px;\n",
              "    }\n",
              "\n",
              "    .colab-df-convert:hover {\n",
              "      background-color: #E2EBFA;\n",
              "      box-shadow: 0px 1px 2px rgba(60, 64, 67, 0.3), 0px 1px 3px 1px rgba(60, 64, 67, 0.15);\n",
              "      fill: #174EA6;\n",
              "    }\n",
              "\n",
              "    [theme=dark] .colab-df-convert {\n",
              "      background-color: #3B4455;\n",
              "      fill: #D2E3FC;\n",
              "    }\n",
              "\n",
              "    [theme=dark] .colab-df-convert:hover {\n",
              "      background-color: #434B5C;\n",
              "      box-shadow: 0px 1px 3px 1px rgba(0, 0, 0, 0.15);\n",
              "      filter: drop-shadow(0px 1px 2px rgba(0, 0, 0, 0.3));\n",
              "      fill: #FFFFFF;\n",
              "    }\n",
              "  </style>\n",
              "\n",
              "      <script>\n",
              "        const buttonEl =\n",
              "          document.querySelector('#df-3eee2529-621c-4123-b4cd-c501e59fef3f button.colab-df-convert');\n",
              "        buttonEl.style.display =\n",
              "          google.colab.kernel.accessAllowed ? 'block' : 'none';\n",
              "\n",
              "        async function convertToInteractive(key) {\n",
              "          const element = document.querySelector('#df-3eee2529-621c-4123-b4cd-c501e59fef3f');\n",
              "          const dataTable =\n",
              "            await google.colab.kernel.invokeFunction('convertToInteractive',\n",
              "                                                     [key], {});\n",
              "          if (!dataTable) return;\n",
              "\n",
              "          const docLinkHtml = 'Like what you see? Visit the ' +\n",
              "            '<a target=\"_blank\" href=https://colab.research.google.com/notebooks/data_table.ipynb>data table notebook</a>'\n",
              "            + ' to learn more about interactive tables.';\n",
              "          element.innerHTML = '';\n",
              "          dataTable['output_type'] = 'display_data';\n",
              "          await google.colab.output.renderOutput(dataTable, element);\n",
              "          const docLink = document.createElement('div');\n",
              "          docLink.innerHTML = docLinkHtml;\n",
              "          element.appendChild(docLink);\n",
              "        }\n",
              "      </script>\n",
              "    </div>\n",
              "  </div>\n"
            ]
          },
          "metadata": {},
          "execution_count": 132
        }
      ],
      "source": [
        "#filtering the dataframe whose response is Read\n",
        "my_data[my_data[\"responses\"]==\"Read\"]"
      ]
    },
    {
      "cell_type": "code",
      "execution_count": 133,
      "id": "03f16ecc",
      "metadata": {
        "execution": {
          "iopub.execute_input": "2022-02-28T18:09:52.810117Z",
          "iopub.status.busy": "2022-02-28T18:09:52.809484Z",
          "iopub.status.idle": "2022-02-28T18:09:52.908558Z",
          "shell.execute_reply": "2022-02-28T18:09:52.909045Z",
          "shell.execute_reply.started": "2022-02-28T18:08:42.578462Z"
        },
        "papermill": {
          "duration": 0.161941,
          "end_time": "2022-02-28T18:09:52.909211",
          "exception": false,
          "start_time": "2022-02-28T18:09:52.747270",
          "status": "completed"
        },
        "tags": [],
        "colab": {
          "base_uri": "https://localhost:8080/",
          "height": 269
        },
        "id": "03f16ecc",
        "outputId": "eb4e26fa-3d26-4bb5-f0e7-a105b7a48b49"
      },
      "outputs": [
        {
          "output_type": "execute_result",
          "data": {
            "text/plain": [
              "<pandas.io.formats.style.Styler at 0x78895e4ec8e0>"
            ],
            "text/html": [
              "<style type=\"text/css\">\n",
              "#T_18217_row0_col0, #T_18217_row1_col0, #T_18217_row4_col0, #T_18217_row5_col0, #T_18217_row6_col0 {\n",
              "  background-color: #084081;\n",
              "  color: #f1f1f1;\n",
              "}\n",
              "#T_18217_row2_col0 {\n",
              "  background-color: #f7fcf0;\n",
              "  color: #000000;\n",
              "}\n",
              "#T_18217_row3_col0 {\n",
              "  background-color: #084f91;\n",
              "  color: #f1f1f1;\n",
              "}\n",
              "</style>\n",
              "<table id=\"T_18217\" class=\"dataframe\">\n",
              "  <thead>\n",
              "    <tr>\n",
              "      <th class=\"blank level0\" >&nbsp;</th>\n",
              "      <th id=\"T_18217_level0_col0\" class=\"col_heading level0 col0\" >count</th>\n",
              "      <th id=\"T_18217_level0_col1\" class=\"col_heading level0 col1\" >unique</th>\n",
              "      <th id=\"T_18217_level0_col2\" class=\"col_heading level0 col2\" >top</th>\n",
              "      <th id=\"T_18217_level0_col3\" class=\"col_heading level0 col3\" >freq</th>\n",
              "    </tr>\n",
              "  </thead>\n",
              "  <tbody>\n",
              "    <tr>\n",
              "      <th id=\"T_18217_level0_row0\" class=\"row_heading level0 row0\" >url</th>\n",
              "      <td id=\"T_18217_row0_col0\" class=\"data row0 col0\" >6508</td>\n",
              "      <td id=\"T_18217_row0_col1\" class=\"data row0 col1\" >6508</td>\n",
              "      <td id=\"T_18217_row0_col2\" class=\"data row0 col2\" >https://towardsdatascience.com/a-beginners-guide-to-word-embedding-with-gensim-word2vec-model-5970fa56cc92</td>\n",
              "      <td id=\"T_18217_row0_col3\" class=\"data row0 col3\" >1</td>\n",
              "    </tr>\n",
              "    <tr>\n",
              "      <th id=\"T_18217_level0_row1\" class=\"row_heading level0 row1\" >title</th>\n",
              "      <td id=\"T_18217_row1_col0\" class=\"data row1 col0\" >6508</td>\n",
              "      <td id=\"T_18217_row1_col1\" class=\"data row1 col1\" >6504</td>\n",
              "      <td id=\"T_18217_row1_col2\" class=\"data row1 col2\" >Lost in translation</td>\n",
              "      <td id=\"T_18217_row1_col3\" class=\"data row1 col3\" >2</td>\n",
              "    </tr>\n",
              "    <tr>\n",
              "      <th id=\"T_18217_level0_row2\" class=\"row_heading level0 row2\" >subtitle</th>\n",
              "      <td id=\"T_18217_row2_col0\" class=\"data row2 col0\" >3479</td>\n",
              "      <td id=\"T_18217_row2_col1\" class=\"data row2 col1\" >3470</td>\n",
              "      <td id=\"T_18217_row2_col2\" class=\"data row2 col2\" ><em class=\"markup--em markup--h4-em\">A weekly selection of design links, brought to you by your friends at the UX Collective.</em></td>\n",
              "      <td id=\"T_18217_row2_col3\" class=\"data row2 col3\" >5</td>\n",
              "    </tr>\n",
              "    <tr>\n",
              "      <th id=\"T_18217_level0_row3\" class=\"row_heading level0 row3\" >image</th>\n",
              "      <td id=\"T_18217_row3_col0\" class=\"data row3 col0\" >6361</td>\n",
              "      <td id=\"T_18217_row3_col1\" class=\"data row3 col1\" >6361</td>\n",
              "      <td id=\"T_18217_row3_col2\" class=\"data row3 col2\" >1.png</td>\n",
              "      <td id=\"T_18217_row3_col3\" class=\"data row3 col3\" >1</td>\n",
              "    </tr>\n",
              "    <tr>\n",
              "      <th id=\"T_18217_level0_row4\" class=\"row_heading level0 row4\" >responses</th>\n",
              "      <td id=\"T_18217_row4_col0\" class=\"data row4 col0\" >6508</td>\n",
              "      <td id=\"T_18217_row4_col1\" class=\"data row4 col1\" >56</td>\n",
              "      <td id=\"T_18217_row4_col2\" class=\"data row4 col2\" >0</td>\n",
              "      <td id=\"T_18217_row4_col3\" class=\"data row4 col3\" >3396</td>\n",
              "    </tr>\n",
              "    <tr>\n",
              "      <th id=\"T_18217_level0_row5\" class=\"row_heading level0 row5\" >publication</th>\n",
              "      <td id=\"T_18217_row5_col0\" class=\"data row5 col0\" >6508</td>\n",
              "      <td id=\"T_18217_row5_col1\" class=\"data row5 col1\" >7</td>\n",
              "      <td id=\"T_18217_row5_col2\" class=\"data row5 col2\" >The Startup</td>\n",
              "      <td id=\"T_18217_row5_col3\" class=\"data row5 col3\" >3041</td>\n",
              "    </tr>\n",
              "    <tr>\n",
              "      <th id=\"T_18217_level0_row6\" class=\"row_heading level0 row6\" >date</th>\n",
              "      <td id=\"T_18217_row6_col0\" class=\"data row6 col0\" >6508</td>\n",
              "      <td id=\"T_18217_row6_col1\" class=\"data row6 col1\" >50</td>\n",
              "      <td id=\"T_18217_row6_col2\" class=\"data row6 col2\" >2019-10-21</td>\n",
              "      <td id=\"T_18217_row6_col3\" class=\"data row6 col3\" >197</td>\n",
              "    </tr>\n",
              "  </tbody>\n",
              "</table>\n"
            ]
          },
          "metadata": {},
          "execution_count": 133
        }
      ],
      "source": [
        "#describing the dataframe including object datatype\n",
        "#Transposing the dataframe resulting from describe\n",
        "# applying background gradient to the \"count\" row, with the color map (or cmap) set to Greens (lower values) to dark blues (higher values)\n",
        "my_data.describe(include=object).T.style.background_gradient(subset=[\"count\"], cmap=\"GnBu\")"
      ]
    },
    {
      "cell_type": "markdown",
      "id": "3728ff36",
      "metadata": {
        "papermill": {
          "duration": 0.062201,
          "end_time": "2022-02-28T18:09:53.033428",
          "exception": false,
          "start_time": "2022-02-28T18:09:52.971227",
          "status": "completed"
        },
        "tags": [],
        "id": "3728ff36"
      },
      "source": [
        " We see that \"The Startup\" is the most frequent publication in our dataset, 21st of octobre 2019 had the most number of articles. We can also see that 52% of articles did not have any reponses."
      ]
    },
    {
      "cell_type": "code",
      "execution_count": 134,
      "id": "57938c9d",
      "metadata": {
        "execution": {
          "iopub.execute_input": "2022-02-28T18:09:53.159543Z",
          "iopub.status.busy": "2022-02-28T18:09:53.158929Z",
          "iopub.status.idle": "2022-02-28T18:09:53.190094Z",
          "shell.execute_reply": "2022-02-28T18:09:53.190727Z",
          "shell.execute_reply.started": "2022-02-28T18:08:42.628261Z"
        },
        "papermill": {
          "duration": 0.095679,
          "end_time": "2022-02-28T18:09:53.190895",
          "exception": false,
          "start_time": "2022-02-28T18:09:53.095216",
          "status": "completed"
        },
        "tags": [],
        "colab": {
          "base_uri": "https://localhost:8080/",
          "height": 143
        },
        "id": "57938c9d",
        "outputId": "3c1a4adf-6142-4357-8683-13e3df84f273"
      },
      "outputs": [
        {
          "output_type": "execute_result",
          "data": {
            "text/plain": [
              "<pandas.io.formats.style.Styler at 0x78895e3dff10>"
            ],
            "text/html": [
              "<style type=\"text/css\">\n",
              "#T_6f001_row0_col0, #T_6f001_row1_col0, #T_6f001_row1_col3, #T_6f001_row2_col0, #T_6f001_row2_col1, #T_6f001_row2_col2, #T_6f001_row2_col3, #T_6f001_row2_col4, #T_6f001_row2_col5, #T_6f001_row2_col6, #T_6f001_row2_col7 {\n",
              "  background-color: #fff7fb;\n",
              "  color: #000000;\n",
              "}\n",
              "#T_6f001_row0_col1, #T_6f001_row0_col2, #T_6f001_row0_col3, #T_6f001_row0_col4, #T_6f001_row0_col5, #T_6f001_row0_col6, #T_6f001_row1_col7 {\n",
              "  background-color: #023858;\n",
              "  color: #f1f1f1;\n",
              "}\n",
              "#T_6f001_row0_col7 {\n",
              "  background-color: #e2dfee;\n",
              "  color: #000000;\n",
              "}\n",
              "#T_6f001_row1_col1 {\n",
              "  background-color: #f1ebf4;\n",
              "  color: #000000;\n",
              "}\n",
              "#T_6f001_row1_col2 {\n",
              "  background-color: #71a8ce;\n",
              "  color: #f1f1f1;\n",
              "}\n",
              "#T_6f001_row1_col4 {\n",
              "  background-color: #fbf3f9;\n",
              "  color: #000000;\n",
              "}\n",
              "#T_6f001_row1_col5 {\n",
              "  background-color: #faf3f9;\n",
              "  color: #000000;\n",
              "}\n",
              "#T_6f001_row1_col6 {\n",
              "  background-color: #f7f0f7;\n",
              "  color: #000000;\n",
              "}\n",
              "</style>\n",
              "<table id=\"T_6f001\" class=\"dataframe\">\n",
              "  <thead>\n",
              "    <tr>\n",
              "      <th class=\"blank level0\" >&nbsp;</th>\n",
              "      <th id=\"T_6f001_level0_col0\" class=\"col_heading level0 col0\" >count</th>\n",
              "      <th id=\"T_6f001_level0_col1\" class=\"col_heading level0 col1\" >mean</th>\n",
              "      <th id=\"T_6f001_level0_col2\" class=\"col_heading level0 col2\" >std</th>\n",
              "      <th id=\"T_6f001_level0_col3\" class=\"col_heading level0 col3\" >min</th>\n",
              "      <th id=\"T_6f001_level0_col4\" class=\"col_heading level0 col4\" >25%</th>\n",
              "      <th id=\"T_6f001_level0_col5\" class=\"col_heading level0 col5\" >50%</th>\n",
              "      <th id=\"T_6f001_level0_col6\" class=\"col_heading level0 col6\" >75%</th>\n",
              "      <th id=\"T_6f001_level0_col7\" class=\"col_heading level0 col7\" >max</th>\n",
              "    </tr>\n",
              "  </thead>\n",
              "  <tbody>\n",
              "    <tr>\n",
              "      <th id=\"T_6f001_level0_row0\" class=\"row_heading level0 row0\" >id</th>\n",
              "      <td id=\"T_6f001_row0_col0\" class=\"data row0 col0\" >6508.000000</td>\n",
              "      <td id=\"T_6f001_row0_col1\" class=\"data row0 col1\" >3254.500000</td>\n",
              "      <td id=\"T_6f001_row0_col2\" class=\"data row0 col2\" >1878.842108</td>\n",
              "      <td id=\"T_6f001_row0_col3\" class=\"data row0 col3\" >1.000000</td>\n",
              "      <td id=\"T_6f001_row0_col4\" class=\"data row0 col4\" >1627.750000</td>\n",
              "      <td id=\"T_6f001_row0_col5\" class=\"data row0 col5\" >3254.500000</td>\n",
              "      <td id=\"T_6f001_row0_col6\" class=\"data row0 col6\" >4881.250000</td>\n",
              "      <td id=\"T_6f001_row0_col7\" class=\"data row0 col7\" >6508.000000</td>\n",
              "    </tr>\n",
              "    <tr>\n",
              "      <th id=\"T_6f001_level0_row1\" class=\"row_heading level0 row1\" >claps</th>\n",
              "      <td id=\"T_6f001_row1_col0\" class=\"data row1 col0\" >6508.000000</td>\n",
              "      <td id=\"T_6f001_row1_col1\" class=\"data row1 col1\" >311.076060</td>\n",
              "      <td id=\"T_6f001_row1_col2\" class=\"data row1 col2\" >950.789896</td>\n",
              "      <td id=\"T_6f001_row1_col3\" class=\"data row1 col3\" >0.000000</td>\n",
              "      <td id=\"T_6f001_row1_col4\" class=\"data row1 col4\" >54.000000</td>\n",
              "      <td id=\"T_6f001_row1_col5\" class=\"data row1 col5\" >115.000000</td>\n",
              "      <td id=\"T_6f001_row1_col6\" class=\"data row1 col6\" >268.250000</td>\n",
              "      <td id=\"T_6f001_row1_col7\" class=\"data row1 col7\" >38000.000000</td>\n",
              "    </tr>\n",
              "    <tr>\n",
              "      <th id=\"T_6f001_level0_row2\" class=\"row_heading level0 row2\" >reading_time</th>\n",
              "      <td id=\"T_6f001_row2_col0\" class=\"data row2 col0\" >6508.000000</td>\n",
              "      <td id=\"T_6f001_row2_col1\" class=\"data row2 col1\" >6.134911</td>\n",
              "      <td id=\"T_6f001_row2_col2\" class=\"data row2 col2\" >3.231918</td>\n",
              "      <td id=\"T_6f001_row2_col3\" class=\"data row2 col3\" >0.000000</td>\n",
              "      <td id=\"T_6f001_row2_col4\" class=\"data row2 col4\" >4.000000</td>\n",
              "      <td id=\"T_6f001_row2_col5\" class=\"data row2 col5\" >5.000000</td>\n",
              "      <td id=\"T_6f001_row2_col6\" class=\"data row2 col6\" >7.000000</td>\n",
              "      <td id=\"T_6f001_row2_col7\" class=\"data row2 col7\" >55.000000</td>\n",
              "    </tr>\n",
              "  </tbody>\n",
              "</table>\n"
            ]
          },
          "metadata": {},
          "execution_count": 134
        }
      ],
      "source": [
        "#describing the dataframe including int datatype\n",
        "#Transpose the dataframe resulting from describe\n",
        "# applying background gradient to the every rowss, with the color map (or cmap) set to light purples (lower values) to dark blues (higher values)\n",
        "my_data.describe().T.style.background_gradient(cmap='PuBu')"
      ]
    },
    {
      "cell_type": "markdown",
      "id": "f2c1a20c",
      "metadata": {
        "papermill": {
          "duration": 0.060879,
          "end_time": "2022-02-28T18:09:53.312532",
          "exception": false,
          "start_time": "2022-02-28T18:09:53.251653",
          "status": "completed"
        },
        "tags": [],
        "id": "f2c1a20c"
      },
      "source": [
        "From the above summary statistics, we can see that the average reading time is 6 minutes, while we can find an article that has a reading time of 55 minutes!. From the mean and median, it looks like the reading time column is normally distributed, but is it? Let's check for distribution type using Emperical Cumulative Distribution Function (ECDF). <br/>\n",
        "ECDF: It is a non-parametric method used to plot the cumulative distribution of data points. The ECDF essentially gives you the proportion or count of data points falling below each unique value in a dataset. Compared to a histogram or density plot, it has the advantage that each observation is visualized directly, meaning that there are no binning or smoothing parameters that need to be adjusted.<br/>\n",
        "\n",
        "**PS:** We can use ecdfplot of seaborn instead of creating a manual visualization."
      ]
    },
    {
      "cell_type": "code",
      "execution_count": 135,
      "id": "67650390",
      "metadata": {
        "execution": {
          "iopub.execute_input": "2022-02-28T18:09:53.435270Z",
          "iopub.status.busy": "2022-02-28T18:09:53.434674Z",
          "iopub.status.idle": "2022-02-28T18:09:53.438526Z",
          "shell.execute_reply": "2022-02-28T18:09:53.438977Z",
          "shell.execute_reply.started": "2022-02-28T18:08:42.974706Z"
        },
        "papermill": {
          "duration": 0.06644,
          "end_time": "2022-02-28T18:09:53.439154",
          "exception": false,
          "start_time": "2022-02-28T18:09:53.372714",
          "status": "completed"
        },
        "tags": [],
        "id": "67650390"
      },
      "outputs": [],
      "source": [
        "def ecdf(my_data):\n",
        "    \"\"\"Compute ECDF for a one-dimensional array of measurements.\"\"\"\n",
        "    # Number of data points: n\n",
        "    n = len(my_data)\n",
        "\n",
        "    # x-data for the ECDF: x\n",
        "    x = np.sort(my_data)\n",
        "\n",
        "    # y-data for the ECDF: y\n",
        "    y = np.arange(1, n+1) / n\n",
        "\n",
        "    return x, y"
      ]
    },
    {
      "cell_type": "markdown",
      "id": "38317469",
      "metadata": {
        "papermill": {
          "duration": 0.060262,
          "end_time": "2022-02-28T18:09:53.559794",
          "exception": false,
          "start_time": "2022-02-28T18:09:53.499532",
          "status": "completed"
        },
        "tags": [],
        "id": "38317469"
      },
      "source": [
        "What we usually do is plot ecdf of our column, alongside a a theoritcal distribution using statistics of our column. In this example we will test if our data is normally distributed first, so we will use theoritcal sample using the mean and standard deviation of reading time column, and compare it to our ecdf."
      ]
    },
    {
      "cell_type": "code",
      "execution_count": 136,
      "id": "fb96c0c8",
      "metadata": {
        "execution": {
          "iopub.execute_input": "2022-02-28T18:09:53.680612Z",
          "iopub.status.busy": "2022-02-28T18:09:53.680057Z",
          "iopub.status.idle": "2022-02-28T18:09:53.891582Z",
          "shell.execute_reply": "2022-02-28T18:09:53.892086Z",
          "shell.execute_reply.started": "2022-02-28T18:08:42.986002Z"
        },
        "papermill": {
          "duration": 0.273651,
          "end_time": "2022-02-28T18:09:53.892263",
          "exception": false,
          "start_time": "2022-02-28T18:09:53.618612",
          "status": "completed"
        },
        "tags": [],
        "colab": {
          "base_uri": "https://localhost:8080/",
          "height": 564
        },
        "id": "fb96c0c8",
        "outputId": "bb12d962-c226-4aab-a816-959d4b0cae84"
      },
      "outputs": [
        {
          "output_type": "display_data",
          "data": {
            "text/plain": [
              "<Figure size 800x600 with 1 Axes>"
            ],
            "image/png": "[encoded data removed]"
          },
          "metadata": {}
        }
      ],
      "source": [
        "sample = np.random.normal(my_data[\"reading_time\"].mean(), my_data[\"reading_time\"].std(), size=10000)\n",
        "\n",
        "x, y = ecdf(my_data[\"reading_time\"])\n",
        "x_theor, y_theor = ecdf(sample)\n",
        "\n",
        "plt.plot(x, y, marker=\".\", linestyle=\"none\", label=\"Data Distribution\")\n",
        "plt.plot(x_theor, y_theor, color=\"red\", label=\"Theoritical Normal Distribution\")\n",
        "\n",
        "plt.xlabel(\"Reading time\")\n",
        "plt.ylabel(\"ECDF\")\n",
        "plt.title(\"ECDF of reading_time\")\n",
        "plt.legend()\n",
        "\n",
        "plt.show()"
      ]
    },
    {
      "cell_type": "markdown",
      "id": "fb604183",
      "metadata": {
        "papermill": {
          "duration": 0.059863,
          "end_time": "2022-02-28T18:09:54.014329",
          "exception": false,
          "start_time": "2022-02-28T18:09:53.954466",
          "status": "completed"
        },
        "tags": [],
        "id": "fb604183"
      },
      "source": [
        "Another way to check if data is normally distributed, is performing Shapiro-Wilk test. We can perform the test using shapiro function of scipy.stats module"
      ]
    },
    {
      "cell_type": "code",
      "execution_count": 137,
      "id": "13d51687",
      "metadata": {
        "execution": {
          "iopub.execute_input": "2022-02-28T18:09:54.142521Z",
          "iopub.status.busy": "2022-02-28T18:09:54.141584Z",
          "iopub.status.idle": "2022-02-28T18:09:54.151632Z",
          "shell.execute_reply": "2022-02-28T18:09:54.152163Z",
          "shell.execute_reply.started": "2022-02-28T18:08:43.242683Z"
        },
        "papermill": {
          "duration": 0.075593,
          "end_time": "2022-02-28T18:09:54.152321",
          "exception": false,
          "start_time": "2022-02-28T18:09:54.076728",
          "status": "completed"
        },
        "tags": [],
        "colab": {
          "base_uri": "https://localhost:8080/"
        },
        "id": "13d51687",
        "outputId": "ecbff16a-114a-4281-dd46-3309eedd0dcb"
      },
      "outputs": [
        {
          "output_type": "stream",
          "name": "stderr",
          "text": [
            "/usr/local/lib/python3.10/dist-packages/scipy/stats/_morestats.py:1816: UserWarning: p-value may not be accurate for N > 5000.\n",
            "  warnings.warn(\"p-value may not be accurate for N > 5000.\")\n"
          ]
        },
        {
          "output_type": "execute_result",
          "data": {
            "text/plain": [
              "ShapiroResult(statistic=0.8009546399116516, pvalue=0.0)"
            ]
          },
          "metadata": {},
          "execution_count": 137
        }
      ],
      "source": [
        "from scipy.stats import shapiro\n",
        "shapiro(my_data[\"reading_time\"])"
      ]
    },
    {
      "cell_type": "markdown",
      "id": "92673534",
      "metadata": {
        "papermill": {
          "duration": 0.062219,
          "end_time": "2022-02-28T18:09:54.277352",
          "exception": false,
          "start_time": "2022-02-28T18:09:54.215133",
          "status": "completed"
        },
        "tags": [],
        "id": "92673534"
      },
      "source": [
        "From the plot we can tell that the data is not normally distributed, and the shapiro-wilk test approved our hypothesis since the p-value is 0.73 which is less than the threshold 0.05 (5%) then we fail to reject the null hypothesis. We do not have sufficient evidence to say that sample does come from a normal distribution."
      ]
    },
    {
      "cell_type": "markdown",
      "id": "a4b837bf",
      "metadata": {
        "papermill": {
          "duration": 0.059981,
          "end_time": "2022-02-28T18:09:54.400695",
          "exception": false,
          "start_time": "2022-02-28T18:09:54.340714",
          "status": "completed"
        },
        "tags": [],
        "id": "a4b837bf"
      },
      "source": [
        "Before testing other distributions, lets visualize histogram of the data:"
      ]
    },
    {
      "cell_type": "code",
      "execution_count": 138,
      "id": "2d38c6c6",
      "metadata": {
        "execution": {
          "iopub.execute_input": "2022-02-28T18:09:54.528119Z",
          "iopub.status.busy": "2022-02-28T18:09:54.527186Z",
          "iopub.status.idle": "2022-02-28T18:09:54.815090Z",
          "shell.execute_reply": "2022-02-28T18:09:54.814603Z",
          "shell.execute_reply.started": "2022-02-28T18:08:43.250851Z"
        },
        "papermill": {
          "duration": 0.352948,
          "end_time": "2022-02-28T18:09:54.815217",
          "exception": false,
          "start_time": "2022-02-28T18:09:54.462269",
          "status": "completed"
        },
        "tags": [],
        "colab": {
          "base_uri": "https://localhost:8080/",
          "height": 564
        },
        "id": "2d38c6c6",
        "outputId": "2cef29a8-4a01-4f6f-9cbe-862bf61f7d5f"
      },
      "outputs": [
        {
          "output_type": "display_data",
          "data": {
            "text/plain": [
              "<Figure size 800x600 with 1 Axes>"
            ],
            "image/png": "[encoded data removed]"
          },
          "metadata": {}
        }
      ],
      "source": [
        "plt.hist(my_data[\"reading_time\"], bins=100, stacked=True)\n",
        "\n",
        "plt.title(\"Reading time Histogram\")\n",
        "plt.xlabel(\"Reading time\")\n",
        "plt.ylabel(\"Frequency\")\n",
        "plt.show()"
      ]
    },
    {
      "cell_type": "markdown",
      "id": "bcd6bbdb",
      "metadata": {
        "papermill": {
          "duration": 0.064384,
          "end_time": "2022-02-28T18:09:54.943456",
          "exception": false,
          "start_time": "2022-02-28T18:09:54.879072",
          "status": "completed"
        },
        "tags": [],
        "id": "bcd6bbdb"
      },
      "source": [
        "First of all, data is obviously not normally distributed, also from the histogram we can see that reading time is a discrete variable. For that reason, We will test poisson distribution."
      ]
    },
    {
      "cell_type": "code",
      "execution_count": 139,
      "id": "548dae50",
      "metadata": {
        "execution": {
          "iopub.execute_input": "2022-02-28T18:09:55.877353Z",
          "iopub.status.busy": "2022-02-28T18:09:55.876293Z",
          "iopub.status.idle": "2022-02-28T18:09:56.103361Z",
          "shell.execute_reply": "2022-02-28T18:09:56.103861Z",
          "shell.execute_reply.started": "2022-02-28T18:08:44.275424Z"
        },
        "papermill": {
          "duration": 0.303298,
          "end_time": "2022-02-28T18:09:56.104060",
          "exception": false,
          "start_time": "2022-02-28T18:09:55.800762",
          "status": "completed"
        },
        "tags": [],
        "colab": {
          "base_uri": "https://localhost:8080/",
          "height": 564
        },
        "id": "548dae50",
        "outputId": "a64fb55e-fffe-4bfb-ecfc-469a12c4a171"
      },
      "outputs": [
        {
          "output_type": "display_data",
          "data": {
            "text/plain": [
              "<Figure size 800x600 with 1 Axes>"
            ],
            "image/png": "[encoded data removed]"
          },
          "metadata": {}
        }
      ],
      "source": [
        "poisson = np.random.poisson(my_data[\"reading_time\"].mean(), size=6000)\n",
        "\n",
        "x_theor_po, y_theor_po = ecdf(poisson)\n",
        "\n",
        "plt.plot(x, y, marker=\".\", linestyle=\"none\", label=\"Data Distribution\")\n",
        "plt.plot(x_theor_po, y_theor_po, color=\"red\", label=\"Theoritical Poisson\")\n",
        "\n",
        "plt.xlabel(\"Reading time\")\n",
        "plt.ylabel(\"ECDF\")\n",
        "plt.title(\"ECDF of reading_time\")\n",
        "plt.legend()\n",
        "\n",
        "plt.show()"
      ]
    },
    {
      "cell_type": "markdown",
      "id": "45f16d7e",
      "metadata": {
        "papermill": {
          "duration": 0.066372,
          "end_time": "2022-02-28T18:09:56.238045",
          "exception": false,
          "start_time": "2022-02-28T18:09:56.171673",
          "status": "completed"
        },
        "tags": [],
        "id": "45f16d7e"
      },
      "source": [
        "We can conclude that reading_time is poisson distributed."
      ]
    },
    {
      "cell_type": "code",
      "execution_count": 140,
      "id": "4f11a1d4",
      "metadata": {
        "execution": {
          "iopub.execute_input": "2022-02-28T18:09:56.515593Z",
          "iopub.status.busy": "2022-02-28T18:09:56.514913Z",
          "iopub.status.idle": "2022-02-28T18:09:56.715440Z",
          "shell.execute_reply": "2022-02-28T18:09:56.714831Z",
          "shell.execute_reply.started": "2022-02-28T18:08:44.514438Z"
        },
        "papermill": {
          "duration": 0.275915,
          "end_time": "2022-02-28T18:09:56.715585",
          "exception": false,
          "start_time": "2022-02-28T18:09:56.439670",
          "status": "completed"
        },
        "tags": [],
        "colab": {
          "base_uri": "https://localhost:8080/",
          "height": 542
        },
        "id": "4f11a1d4",
        "outputId": "2b374ca4-d2ce-44df-ff95-0e6eb30383a5"
      },
      "outputs": [
        {
          "output_type": "display_data",
          "data": {
            "text/plain": [
              "<Figure size 800x600 with 1 Axes>"
            ],
            "image/png": "[encoded data removed]"
          },
          "metadata": {}
        }
      ],
      "source": [
        "sns.countplot(y=\"publication\", data=my_data, order=my_data['publication'].value_counts().index)\n",
        "plt.show()"
      ]
    },
    {
      "cell_type": "markdown",
      "id": "dc928059",
      "metadata": {
        "papermill": {
          "duration": 0.067505,
          "end_time": "2022-02-28T18:09:56.851063",
          "exception": false,
          "start_time": "2022-02-28T18:09:56.783558",
          "status": "completed"
        },
        "tags": [],
        "id": "dc928059"
      },
      "source": [
        "***The Startup*** is the publication most frequent in our data, followed by ***Towards Data Science.***"
      ]
    },
    {
      "cell_type": "markdown",
      "id": "2ffd985b",
      "metadata": {
        "papermill": {
          "duration": 0.069776,
          "end_time": "2022-02-28T18:09:56.989718",
          "exception": false,
          "start_time": "2022-02-28T18:09:56.919942",
          "status": "completed"
        },
        "tags": [],
        "id": "2ffd985b"
      },
      "source": [
        "How does reading time vary in each publication?"
      ]
    },
    {
      "cell_type": "code",
      "execution_count": 141,
      "id": "d3061164",
      "metadata": {
        "execution": {
          "iopub.execute_input": "2022-02-28T18:09:57.135926Z",
          "iopub.status.busy": "2022-02-28T18:09:57.135341Z",
          "iopub.status.idle": "2022-02-28T18:09:57.447740Z",
          "shell.execute_reply": "2022-02-28T18:09:57.447262Z",
          "shell.execute_reply.started": "2022-02-28T18:08:44.728803Z"
        },
        "papermill": {
          "duration": 0.389172,
          "end_time": "2022-02-28T18:09:57.447862",
          "exception": false,
          "start_time": "2022-02-28T18:09:57.058690",
          "status": "completed"
        },
        "tags": [],
        "colab": {
          "base_uri": "https://localhost:8080/",
          "height": 542
        },
        "id": "d3061164",
        "outputId": "5cf64147-d6c1-4465-9e2f-e32750b0daa6"
      },
      "outputs": [
        {
          "output_type": "display_data",
          "data": {
            "text/plain": [
              "<Figure size 800x600 with 1 Axes>"
            ],
            "image/png": "[encoded data removed]"
          },
          "metadata": {}
        }
      ],
      "source": [
        "sns.kdeplot(x=\"reading_time\", hue=\"publication\", data=my_data)\n",
        "plt.xlim(0,25)\n",
        "plt.show()"
      ]
    },
    {
      "cell_type": "markdown",
      "id": "c41eed23",
      "metadata": {
        "papermill": {
          "duration": 0.065984,
          "end_time": "2022-02-28T18:09:57.580532",
          "exception": false,
          "start_time": "2022-02-28T18:09:57.514548",
          "status": "completed"
        },
        "tags": [],
        "id": "c41eed23"
      },
      "source": [
        "From this kde plot we can see that the mean reading time does not differ much between publications."
      ]
    },
    {
      "cell_type": "markdown",
      "id": "adcf6971",
      "metadata": {
        "execution": {
          "iopub.execute_input": "2022-02-28T17:29:30.496604Z",
          "iopub.status.busy": "2022-02-28T17:29:30.496171Z",
          "iopub.status.idle": "2022-02-28T17:29:30.503237Z",
          "shell.execute_reply": "2022-02-28T17:29:30.502470Z",
          "shell.execute_reply.started": "2022-02-28T17:29:30.496554Z"
        },
        "papermill": {
          "duration": 0.068682,
          "end_time": "2022-02-28T18:09:57.717072",
          "exception": false,
          "start_time": "2022-02-28T18:09:57.648390",
          "status": "completed"
        },
        "tags": [],
        "id": "adcf6971"
      },
      "source": [
        "Finally, to visualize relationship between reponses and claps,we have to first drop the articles that have responses as \"Read\" and convert the column type to int."
      ]
    },
    {
      "cell_type": "code",
      "execution_count": 142,
      "id": "ddf7ce78",
      "metadata": {
        "execution": {
          "iopub.execute_input": "2022-02-28T18:09:57.870781Z",
          "iopub.status.busy": "2022-02-28T18:09:57.870187Z",
          "iopub.status.idle": "2022-02-28T18:09:57.872704Z",
          "shell.execute_reply": "2022-02-28T18:09:57.873213Z",
          "shell.execute_reply.started": "2022-02-28T18:08:45.050215Z"
        },
        "papermill": {
          "duration": 0.088007,
          "end_time": "2022-02-28T18:09:57.873378",
          "exception": false,
          "start_time": "2022-02-28T18:09:57.785371",
          "status": "completed"
        },
        "tags": [],
        "colab": {
          "base_uri": "https://localhost:8080/",
          "height": 190
        },
        "id": "ddf7ce78",
        "outputId": "1d4c9902-e8a1-40a5-cea4-ff44b94c9c02"
      },
      "outputs": [
        {
          "output_type": "execute_result",
          "data": {
            "text/plain": [
              "        id                                                url  \\\n",
              "3977  3978  https://medium.com/datadriveninvestor/what-do-...   \n",
              "6392  6393  https://uxdesign.cc/please-please-please-tell-...   \n",
              "\n",
              "                                                  title subtitle     image  \\\n",
              "3977  What do you think of the Open Group’s Data Sci...      NaN  3978.jpg   \n",
              "6392     UX doesn’t discriminate, it targets behaviours      NaN       NaN   \n",
              "\n",
              "      claps responses  reading_time           publication        date  \n",
              "3977     73      Read             3  Data Driven Investor  2019-05-24  \n",
              "6392     74      Read             5         UX Collective  2019-12-05  "
            ],
            "text/html": [
              "\n",
              "\n",
              "  <div id=\"df-deab7594-6059-44cb-9753-821705235b99\">\n",
              "    <div class=\"colab-df-container\">\n",
              "      <div>\n",
              "<style scoped>\n",
              "    .dataframe tbody tr th:only-of-type {\n",
              "        vertical-align: middle;\n",
              "    }\n",
              "\n",
              "    .dataframe tbody tr th {\n",
              "        vertical-align: top;\n",
              "    }\n",
              "\n",
              "    .dataframe thead th {\n",
              "        text-align: right;\n",
              "    }\n",
              "</style>\n",
              "<table border=\"1\" class=\"dataframe\">\n",
              "  <thead>\n",
              "    <tr style=\"text-align: right;\">\n",
              "      <th></th>\n",
              "      <th>id</th>\n",
              "      <th>url</th>\n",
              "      <th>title</th>\n",
              "      <th>subtitle</th>\n",
              "      <th>image</th>\n",
              "      <th>claps</th>\n",
              "      <th>responses</th>\n",
              "      <th>reading_time</th>\n",
              "      <th>publication</th>\n",
              "      <th>date</th>\n",
              "    </tr>\n",
              "  </thead>\n",
              "  <tbody>\n",
              "    <tr>\n",
              "      <th>3977</th>\n",
              "      <td>3978</td>\n",
              "      <td>https://medium.com/datadriveninvestor/what-do-...</td>\n",
              "      <td>What do you think of the Open Group’s Data Sci...</td>\n",
              "      <td>NaN</td>\n",
              "      <td>3978.jpg</td>\n",
              "      <td>73</td>\n",
              "      <td>Read</td>\n",
              "      <td>3</td>\n",
              "      <td>Data Driven Investor</td>\n",
              "      <td>2019-05-24</td>\n",
              "    </tr>\n",
              "    <tr>\n",
              "      <th>6392</th>\n",
              "      <td>6393</td>\n",
              "      <td>https://uxdesign.cc/please-please-please-tell-...</td>\n",
              "      <td>UX doesn’t discriminate, it targets behaviours</td>\n",
              "      <td>NaN</td>\n",
              "      <td>NaN</td>\n",
              "      <td>74</td>\n",
              "      <td>Read</td>\n",
              "      <td>5</td>\n",
              "      <td>UX Collective</td>\n",
              "      <td>2019-12-05</td>\n",
              "    </tr>\n",
              "  </tbody>\n",
              "</table>\n",
              "</div>\n",
              "      <button class=\"colab-df-convert\" onclick=\"convertToInteractive('df-deab7594-6059-44cb-9753-821705235b99')\"\n",
              "              title=\"Convert this dataframe to an interactive table.\"\n",
              "              style=\"display:none;\">\n",
              "\n",
              "  <svg xmlns=\"http://www.w3.org/2000/svg\" height=\"24px\"viewBox=\"0 0 24 24\"\n",
              "       width=\"24px\">\n",
              "    <path d=\"M0 0h24v24H0V0z\" fill=\"none\"/>\n",
              "    <path d=\"M18.56 5.44l.94 2.06.94-2.06 2.06-.94-2.06-.94-.94-2.06-.94 2.06-2.06.94zm-11 1L8.5 8.5l.94-2.06 2.06-.94-2.06-.94L8.5 2.5l-.94 2.06-2.06.94zm10 10l.94 2.06.94-2.06 2.06-.94-2.06-.94-.94-2.06-.94 2.06-2.06.94z\"/><path d=\"M17.41 7.96l-1.37-1.37c-.4-.4-.92-.59-1.43-.59-.52 0-1.04.2-1.43.59L10.3 9.45l-7.72 7.72c-.78.78-.78 2.05 0 2.83L4 21.41c.39.39.9.59 1.41.59.51 0 1.02-.2 1.41-.59l7.78-7.78 2.81-2.81c.8-.78.8-2.07 0-2.86zM5.41 20L4 18.59l7.72-7.72 1.47 1.35L5.41 20z\"/>\n",
              "  </svg>\n",
              "      </button>\n",
              "\n",
              "\n",
              "\n",
              "    <div id=\"df-48fad775-aef8-4e05-ad06-e733ad5a9377\">\n",
              "      <button class=\"colab-df-quickchart\" onclick=\"quickchart('df-48fad775-aef8-4e05-ad06-e733ad5a9377')\"\n",
              "              title=\"Suggest charts.\"\n",
              "              style=\"display:none;\">\n",
              "\n",
              "<svg xmlns=\"http://www.w3.org/2000/svg\" height=\"24px\"viewBox=\"0 0 24 24\"\n",
              "     width=\"24px\">\n",
              "    <g>\n",
              "        <path d=\"M19 3H5c-1.1 0-2 .9-2 2v14c0 1.1.9 2 2 2h14c1.1 0 2-.9 2-2V5c0-1.1-.9-2-2-2zM9 17H7v-7h2v7zm4 0h-2V7h2v10zm4 0h-2v-4h2v4z\"/>\n",
              "    </g>\n",
              "</svg>\n",
              "      </button>\n",
              "    </div>\n",
              "\n",
              "<style>\n",
              "  .colab-df-quickchart {\n",
              "    background-color: #E8F0FE;\n",
              "    border: none;\n",
              "    border-radius: 50%;\n",
              "    cursor: pointer;\n",
              "    display: none;\n",
              "    fill: #1967D2;\n",
              "    height: 32px;\n",
              "    padding: 0 0 0 0;\n",
              "    width: 32px;\n",
              "  }\n",
              "\n",
              "  .colab-df-quickchart:hover {\n",
              "    background-color: #E2EBFA;\n",
              "    box-shadow: 0px 1px 2px rgba(60, 64, 67, 0.3), 0px 1px 3px 1px rgba(60, 64, 67, 0.15);\n",
              "    fill: #174EA6;\n",
              "  }\n",
              "\n",
              "  [theme=dark] .colab-df-quickchart {\n",
              "    background-color: #3B4455;\n",
              "    fill: #D2E3FC;\n",
              "  }\n",
              "\n",
              "  [theme=dark] .colab-df-quickchart:hover {\n",
              "    background-color: #434B5C;\n",
              "    box-shadow: 0px 1px 3px 1px rgba(0, 0, 0, 0.15);\n",
              "    filter: drop-shadow(0px 1px 2px rgba(0, 0, 0, 0.3));\n",
              "    fill: #FFFFFF;\n",
              "  }\n",
              "</style>\n",
              "\n",
              "    <script>\n",
              "      async function quickchart(key) {\n",
              "        const containerElement = document.querySelector('#' + key);\n",
              "        const charts = await google.colab.kernel.invokeFunction(\n",
              "            'suggestCharts', [key], {});\n",
              "      }\n",
              "    </script>\n",
              "\n",
              "      <script>\n",
              "\n",
              "function displayQuickchartButton(domScope) {\n",
              "  let quickchartButtonEl =\n",
              "    domScope.querySelector('#df-48fad775-aef8-4e05-ad06-e733ad5a9377 button.colab-df-quickchart');\n",
              "  quickchartButtonEl.style.display =\n",
              "    google.colab.kernel.accessAllowed ? 'block' : 'none';\n",
              "}\n",
              "\n",
              "        displayQuickchartButton(document);\n",
              "      </script>\n",
              "      <style>\n",
              "    .colab-df-container {\n",
              "      display:flex;\n",
              "      flex-wrap:wrap;\n",
              "      gap: 12px;\n",
              "    }\n",
              "\n",
              "    .colab-df-convert {\n",
              "      background-color: #E8F0FE;\n",
              "      border: none;\n",
              "      border-radius: 50%;\n",
              "      cursor: pointer;\n",
              "      display: none;\n",
              "      fill: #1967D2;\n",
              "      height: 32px;\n",
              "      padding: 0 0 0 0;\n",
              "      width: 32px;\n",
              "    }\n",
              "\n",
              "    .colab-df-convert:hover {\n",
              "      background-color: #E2EBFA;\n",
              "      box-shadow: 0px 1px 2px rgba(60, 64, 67, 0.3), 0px 1px 3px 1px rgba(60, 64, 67, 0.15);\n",
              "      fill: #174EA6;\n",
              "    }\n",
              "\n",
              "    [theme=dark] .colab-df-convert {\n",
              "      background-color: #3B4455;\n",
              "      fill: #D2E3FC;\n",
              "    }\n",
              "\n",
              "    [theme=dark] .colab-df-convert:hover {\n",
              "      background-color: #434B5C;\n",
              "      box-shadow: 0px 1px 3px 1px rgba(0, 0, 0, 0.15);\n",
              "      filter: drop-shadow(0px 1px 2px rgba(0, 0, 0, 0.3));\n",
              "      fill: #FFFFFF;\n",
              "    }\n",
              "  </style>\n",
              "\n",
              "      <script>\n",
              "        const buttonEl =\n",
              "          document.querySelector('#df-deab7594-6059-44cb-9753-821705235b99 button.colab-df-convert');\n",
              "        buttonEl.style.display =\n",
              "          google.colab.kernel.accessAllowed ? 'block' : 'none';\n",
              "\n",
              "        async function convertToInteractive(key) {\n",
              "          const element = document.querySelector('#df-deab7594-6059-44cb-9753-821705235b99');\n",
              "          const dataTable =\n",
              "            await google.colab.kernel.invokeFunction('convertToInteractive',\n",
              "                                                     [key], {});\n",
              "          if (!dataTable) return;\n",
              "\n",
              "          const docLinkHtml = 'Like what you see? Visit the ' +\n",
              "            '<a target=\"_blank\" href=https://colab.research.google.com/notebooks/data_table.ipynb>data table notebook</a>'\n",
              "            + ' to learn more about interactive tables.';\n",
              "          element.innerHTML = '';\n",
              "          dataTable['output_type'] = 'display_data';\n",
              "          await google.colab.output.renderOutput(dataTable, element);\n",
              "          const docLink = document.createElement('div');\n",
              "          docLink.innerHTML = docLinkHtml;\n",
              "          element.appendChild(docLink);\n",
              "        }\n",
              "      </script>\n",
              "    </div>\n",
              "  </div>\n"
            ]
          },
          "metadata": {},
          "execution_count": 142
        }
      ],
      "source": [
        "my_data[my_data[\"responses\"]==\"Read\"]"
      ]
    },
    {
      "cell_type": "code",
      "execution_count": 143,
      "id": "8a216336",
      "metadata": {
        "execution": {
          "iopub.execute_input": "2022-02-28T18:09:58.016223Z",
          "iopub.status.busy": "2022-02-28T18:09:58.015658Z",
          "iopub.status.idle": "2022-02-28T18:09:58.020551Z",
          "shell.execute_reply": "2022-02-28T18:09:58.021112Z",
          "shell.execute_reply.started": "2022-02-28T18:08:45.069048Z"
        },
        "papermill": {
          "duration": 0.076268,
          "end_time": "2022-02-28T18:09:58.021261",
          "exception": false,
          "start_time": "2022-02-28T18:09:57.944993",
          "status": "completed"
        },
        "tags": [],
        "id": "8a216336"
      },
      "outputs": [],
      "source": [
        "my_data.drop(index=[3977, 6392], inplace=True)"
      ]
    },
    {
      "cell_type": "code",
      "execution_count": 144,
      "id": "b8def98f",
      "metadata": {
        "execution": {
          "iopub.execute_input": "2022-02-28T18:09:58.163992Z",
          "iopub.status.busy": "2022-02-28T18:09:58.163351Z",
          "iopub.status.idle": "2022-02-28T18:09:58.171202Z",
          "shell.execute_reply": "2022-02-28T18:09:58.171704Z",
          "shell.execute_reply.started": "2022-02-28T18:08:45.080621Z"
        },
        "papermill": {
          "duration": 0.080732,
          "end_time": "2022-02-28T18:09:58.171856",
          "exception": false,
          "start_time": "2022-02-28T18:09:58.091124",
          "status": "completed"
        },
        "tags": [],
        "colab": {
          "base_uri": "https://localhost:8080/"
        },
        "id": "b8def98f",
        "outputId": "c9243e77-7780-4c8b-f180-645153e6dc6e"
      },
      "outputs": [
        {
          "output_type": "execute_result",
          "data": {
            "text/plain": [
              "dtype('int64')"
            ]
          },
          "metadata": {},
          "execution_count": 144
        }
      ],
      "source": [
        "my_data[\"responses\"] = my_data[\"responses\"].astype(int)\n",
        "my_data[\"responses\"].dtype"
      ]
    },
    {
      "cell_type": "code",
      "execution_count": 145,
      "id": "1657ef33",
      "metadata": {
        "execution": {
          "iopub.execute_input": "2022-02-28T18:09:58.318695Z",
          "iopub.status.busy": "2022-02-28T18:09:58.315849Z",
          "iopub.status.idle": "2022-02-28T18:09:58.969981Z",
          "shell.execute_reply": "2022-02-28T18:09:58.970472Z",
          "shell.execute_reply.started": "2022-02-28T18:08:45.094993Z"
        },
        "papermill": {
          "duration": 0.728811,
          "end_time": "2022-02-28T18:09:58.970633",
          "exception": false,
          "start_time": "2022-02-28T18:09:58.241822",
          "status": "completed"
        },
        "tags": [],
        "colab": {
          "base_uri": "https://localhost:8080/",
          "height": 564
        },
        "id": "1657ef33",
        "outputId": "661e447e-dea6-494c-de5b-49057e8207e6"
      },
      "outputs": [
        {
          "output_type": "display_data",
          "data": {
            "text/plain": [
              "<Figure size 800x600 with 1 Axes>"
            ],
            "image/png": "[encoded data removed]"
          },
          "metadata": {}
        }
      ],
      "source": [
        "sns.regplot(x=\"claps\", y=\"responses\", data=my_data)\n",
        "plt.title(\"Linear Regression fit\")\n",
        "plt.show()"
      ]
    },
    {
      "cell_type": "markdown",
      "id": "a7062e82",
      "metadata": {
        "papermill": {
          "duration": 0.074514,
          "end_time": "2022-02-28T18:09:59.118303",
          "exception": false,
          "start_time": "2022-02-28T18:09:59.043789",
          "status": "completed"
        },
        "tags": [],
        "id": "a7062e82"
      },
      "source": [
        "It is obvious that articles with more claps get more responses, we can make sure of that plotting a correlation heatmap."
      ]
    },
    {
      "cell_type": "code",
      "execution_count": 146,
      "id": "bec1276b",
      "metadata": {
        "execution": {
          "iopub.execute_input": "2022-02-28T18:09:59.265998Z",
          "iopub.status.busy": "2022-02-28T18:09:59.265416Z",
          "iopub.status.idle": "2022-02-28T18:09:59.521936Z",
          "shell.execute_reply": "2022-02-28T18:09:59.521298Z",
          "shell.execute_reply.started": "2022-02-28T18:08:45.772381Z"
        },
        "papermill": {
          "duration": 0.33024,
          "end_time": "2022-02-28T18:09:59.522095",
          "exception": false,
          "start_time": "2022-02-28T18:09:59.191855",
          "status": "completed"
        },
        "tags": [],
        "colab": {
          "base_uri": "https://localhost:8080/",
          "height": 600
        },
        "id": "bec1276b",
        "outputId": "fa6465d2-7578-45a6-f1a4-9c74ad1cbd42"
      },
      "outputs": [
        {
          "output_type": "stream",
          "name": "stderr",
          "text": [
            "<ipython-input-146-e4fbec1cb8db>:1: FutureWarning: The default value of numeric_only in DataFrame.corr is deprecated. In a future version, it will default to False. Select only valid columns or specify the value of numeric_only to silence this warning.\n",
            "  correlation = my_data.corr()\n"
          ]
        },
        {
          "output_type": "display_data",
          "data": {
            "text/plain": [
              "<Figure size 800x600 with 2 Axes>"
            ],
            "image/png": "[encoded data removed]"
          },
          "metadata": {}
        }
      ],
      "source": [
        "correlation = my_data.corr()\n",
        "sns.heatmap(correlation,annot=True,\n",
        "            cmap=sns.color_palette(\"magma\"),\n",
        "            linewidth=2,edgecolor=\"k\")\n",
        "plt.title(\"CORRELATION HEATMAP\")\n",
        "plt.show()"
      ]
    },
    {
      "cell_type": "markdown",
      "id": "563e4567",
      "metadata": {
        "papermill": {
          "duration": 0.073297,
          "end_time": "2022-02-28T18:09:59.667160",
          "exception": false,
          "start_time": "2022-02-28T18:09:59.593863",
          "status": "completed"
        },
        "tags": [],
        "id": "563e4567"
      },
      "source": [
        "reponses and claps are positvely correlated. (=0.74)"
      ]
    },
    {
      "cell_type": "markdown",
      "id": "85b90e59",
      "metadata": {
        "papermill": {
          "duration": 0.07176,
          "end_time": "2022-02-28T18:09:59.810061",
          "exception": false,
          "start_time": "2022-02-28T18:09:59.738301",
          "status": "completed"
        },
        "tags": [],
        "id": "85b90e59"
      },
      "source": [
        "## Feature Engineering and Data Pre-Processing"
      ]
    },
    {
      "cell_type": "markdown",
      "id": "8b3afee1",
      "metadata": {
        "papermill": {
          "duration": 0.074344,
          "end_time": "2022-02-28T18:09:59.955801",
          "exception": false,
          "start_time": "2022-02-28T18:09:59.881457",
          "status": "completed"
        },
        "tags": [],
        "id": "8b3afee1"
      },
      "source": [
        "converting date column to its correct type:"
      ]
    },
    {
      "cell_type": "code",
      "execution_count": 147,
      "id": "ea5c7342",
      "metadata": {
        "execution": {
          "iopub.execute_input": "2022-02-28T18:10:00.107661Z",
          "iopub.status.busy": "2022-02-28T18:10:00.103942Z",
          "iopub.status.idle": "2022-02-28T18:10:00.113389Z",
          "shell.execute_reply": "2022-02-28T18:10:00.113982Z",
          "shell.execute_reply.started": "2022-02-28T18:08:46.046930Z"
        },
        "papermill": {
          "duration": 0.088143,
          "end_time": "2022-02-28T18:10:00.114162",
          "exception": false,
          "start_time": "2022-02-28T18:10:00.026019",
          "status": "completed"
        },
        "tags": [],
        "colab": {
          "base_uri": "https://localhost:8080/"
        },
        "id": "ea5c7342",
        "outputId": "9440fe36-39b9-4782-ac1c-730fff358958"
      },
      "outputs": [
        {
          "output_type": "execute_result",
          "data": {
            "text/plain": [
              "dtype('<M8[ns]')"
            ]
          },
          "metadata": {},
          "execution_count": 147
        }
      ],
      "source": [
        "my_data = my_data.astype({'date': 'datetime64[ns]'})\n",
        "my_data[\"date\"].dtype"
      ]
    },
    {
      "cell_type": "markdown",
      "id": "baa73066",
      "metadata": {
        "papermill": {
          "duration": 0.072038,
          "end_time": "2022-02-28T18:10:00.259607",
          "exception": false,
          "start_time": "2022-02-28T18:10:00.187569",
          "status": "completed"
        },
        "tags": [],
        "id": "baa73066"
      },
      "source": [
        "We have noticed some titles that have html tags attached to them, Let's applying some regex to delete those elements.\n",
        "Example of a title with html element:"
      ]
    },
    {
      "cell_type": "code",
      "execution_count": 148,
      "id": "d67a2242",
      "metadata": {
        "execution": {
          "iopub.execute_input": "2022-02-28T18:10:00.407089Z",
          "iopub.status.busy": "2022-02-28T18:10:00.406523Z",
          "iopub.status.idle": "2022-02-28T18:10:00.408741Z",
          "shell.execute_reply": "2022-02-28T18:10:00.409260Z",
          "shell.execute_reply.started": "2022-02-28T18:08:46.063924Z"
        },
        "papermill": {
          "duration": 0.078469,
          "end_time": "2022-02-28T18:10:00.409403",
          "exception": false,
          "start_time": "2022-02-28T18:10:00.330934",
          "status": "completed"
        },
        "tags": [],
        "colab": {
          "base_uri": "https://localhost:8080/",
          "height": 35
        },
        "id": "d67a2242",
        "outputId": "ce591fab-84eb-4837-f6d0-0377f8ed5092"
      },
      "outputs": [
        {
          "output_type": "execute_result",
          "data": {
            "text/plain": [
              "'<strong class=\"markup--strong markup--h3-strong\">If You Learn to Write, You Can Change Your\\xa0Life.</strong>'"
            ],
            "application/vnd.google.colaboratory.intrinsic+json": {
              "type": "string"
            }
          },
          "metadata": {},
          "execution_count": 148
        }
      ],
      "source": [
        "my_data.iloc[1003].title"
      ]
    },
    {
      "cell_type": "code",
      "execution_count": 149,
      "id": "80f14ed3",
      "metadata": {
        "execution": {
          "iopub.execute_input": "2022-02-28T18:10:00.554285Z",
          "iopub.status.busy": "2022-02-28T18:10:00.553633Z",
          "iopub.status.idle": "2022-02-28T18:10:08.279621Z",
          "shell.execute_reply": "2022-02-28T18:10:08.279157Z",
          "shell.execute_reply.started": "2022-02-28T18:08:46.074981Z"
        },
        "papermill": {
          "duration": 7.799621,
          "end_time": "2022-02-28T18:10:08.279765",
          "exception": false,
          "start_time": "2022-02-28T18:10:00.480144",
          "status": "completed"
        },
        "tags": [],
        "id": "80f14ed3"
      },
      "outputs": [],
      "source": [
        "def fix_titles(row):\n",
        "    if re.search(\"<\\w.*?>\", row) != None:\n",
        "        my_data[\"title\"] = my_data[\"title\"].replace(\"<\\w.*?>\", \"\", regex=True)\n",
        "        my_data[\"title\"] = my_data[\"title\"].replace(\"</\\w.*?>\", \"\", regex=True)\n",
        "    return row\n",
        "\n",
        "my_data['title'] = my_data['title'].apply(fix_titles)"
      ]
    },
    {
      "cell_type": "markdown",
      "id": "2ed525f7",
      "metadata": {
        "papermill": {
          "duration": 0.071359,
          "end_time": "2022-02-28T18:10:08.422054",
          "exception": false,
          "start_time": "2022-02-28T18:10:08.350695",
          "status": "completed"
        },
        "tags": [],
        "id": "2ed525f7"
      },
      "source": [
        "Drop columns that won't be use: (not important step)"
      ]
    },
    {
      "cell_type": "code",
      "execution_count": 150,
      "id": "92620411",
      "metadata": {
        "execution": {
          "iopub.execute_input": "2022-02-28T18:10:08.571445Z",
          "iopub.status.busy": "2022-02-28T18:10:08.570813Z",
          "iopub.status.idle": "2022-02-28T18:10:08.574817Z",
          "shell.execute_reply": "2022-02-28T18:10:08.575405Z",
          "shell.execute_reply.started": "2022-02-28T18:08:54.288552Z"
        },
        "papermill": {
          "duration": 0.081547,
          "end_time": "2022-02-28T18:10:08.575551",
          "exception": false,
          "start_time": "2022-02-28T18:10:08.494004",
          "status": "completed"
        },
        "tags": [],
        "id": "92620411"
      },
      "outputs": [],
      "source": [
        "my_data.drop(columns=[\"id\", \"image\"], inplace=True)"
      ]
    },
    {
      "cell_type": "markdown",
      "id": "7f67ac32",
      "metadata": {
        "papermill": {
          "duration": 0.069119,
          "end_time": "2022-02-28T18:10:08.715879",
          "exception": false,
          "start_time": "2022-02-28T18:10:08.646760",
          "status": "completed"
        },
        "tags": [],
        "id": "7f67ac32"
      },
      "source": [
        "There are some articles which do not have subtitles, so we will fill these missing subtitles with the title of the article."
      ]
    },
    {
      "cell_type": "code",
      "execution_count": 163,
      "id": "dfb5f9a7",
      "metadata": {
        "execution": {
          "iopub.execute_input": "2022-02-28T18:10:08.864588Z",
          "iopub.status.busy": "2022-02-28T18:10:08.863954Z",
          "iopub.status.idle": "2022-02-28T18:10:08.869761Z",
          "shell.execute_reply": "2022-02-28T18:10:08.869272Z",
          "shell.execute_reply.started": "2022-02-28T18:08:54.299238Z"
        },
        "papermill": {
          "duration": 0.080384,
          "end_time": "2022-02-28T18:10:08.869886",
          "exception": false,
          "start_time": "2022-02-28T18:10:08.789502",
          "status": "completed"
        },
        "tags": [],
        "id": "dfb5f9a7"
      },
      "outputs": [],
      "source": [
        "my_data[\"subtitle\"].fillna(my_data[\"title\"], inplace=True)"
      ]
    },
    {
      "cell_type": "markdown",
      "id": "86dba6b6",
      "metadata": {
        "papermill": {
          "duration": 0.072263,
          "end_time": "2022-02-28T18:10:09.015533",
          "exception": false,
          "start_time": "2022-02-28T18:10:08.943270",
          "status": "completed"
        },
        "tags": [],
        "id": "86dba6b6"
      },
      "source": [
        "A recommender system would be better if the data contained the whole body, or a summary of it, but since we do not have here, we can combined title and subtitle to form a column that we will apply NMF on."
      ]
    },
    {
      "cell_type": "code",
      "execution_count": 152,
      "id": "7b5dd9d5",
      "metadata": {
        "execution": {
          "iopub.execute_input": "2022-02-28T18:10:09.177879Z",
          "iopub.status.busy": "2022-02-28T18:10:09.177298Z",
          "iopub.status.idle": "2022-02-28T18:10:09.180054Z",
          "shell.execute_reply": "2022-02-28T18:10:09.180593Z",
          "shell.execute_reply.started": "2022-02-28T18:08:54.310416Z"
        },
        "papermill": {
          "duration": 0.092048,
          "end_time": "2022-02-28T18:10:09.180749",
          "exception": false,
          "start_time": "2022-02-28T18:10:09.088701",
          "status": "completed"
        },
        "tags": [],
        "colab": {
          "base_uri": "https://localhost:8080/",
          "height": 406
        },
        "id": "7b5dd9d5",
        "outputId": "50deabf0-b2c8-456b-b56b-215e84a3688f"
      },
      "outputs": [
        {
          "output_type": "execute_result",
          "data": {
            "text/plain": [
              "                                                 url  \\\n",
              "0  https://towardsdatascience.com/a-beginners-gui...   \n",
              "1  https://towardsdatascience.com/hands-on-graph-...   \n",
              "2  https://towardsdatascience.com/how-to-use-ggpl...   \n",
              "3  https://towardsdatascience.com/databricks-how-...   \n",
              "4  https://towardsdatascience.com/a-step-by-step-...   \n",
              "\n",
              "                                               title  \\\n",
              "0  A Beginner’s Guide to Word Embedding with Gens...   \n",
              "1  Hands-on Graph Neural Networks with PyTorch & ...   \n",
              "2                       How to Use ggplot2 in Python   \n",
              "3  Databricks: How to Save Files in CSV on Your L...   \n",
              "4  A Step-by-Step Implementation of Gradient Desc...   \n",
              "\n",
              "                                            subtitle  claps  responses  \\\n",
              "0  A Beginner’s Guide to Word Embedding with Gens...    850          8   \n",
              "1  Hands-on Graph Neural Networks with PyTorch & ...   1100         11   \n",
              "2                   A Grammar of Graphics for Python    767          1   \n",
              "3            When I work on Python projects dealing…    354          0   \n",
              "4                    One example of building neural…    211          3   \n",
              "\n",
              "   reading_time           publication       date  \\\n",
              "0             8  Towards Data Science 2019-05-30   \n",
              "1             9  Towards Data Science 2019-05-30   \n",
              "2             5  Towards Data Science 2019-05-30   \n",
              "3             4  Towards Data Science 2019-05-30   \n",
              "4             4  Towards Data Science 2019-05-30   \n",
              "\n",
              "                                             article  \n",
              "0  A Beginner’s Guide to Word Embedding with Gens...  \n",
              "1  Hands-on Graph Neural Networks with PyTorch & ...  \n",
              "2  How to Use ggplot2 in PythonA Grammar of Graph...  \n",
              "3  Databricks: How to Save Files in CSV on Your L...  \n",
              "4  A Step-by-Step Implementation of Gradient Desc...  "
            ],
            "text/html": [
              "\n",
              "\n",
              "  <div id=\"df-36a08bbd-1674-4829-bce2-6d50208b8ab3\">\n",
              "    <div class=\"colab-df-container\">\n",
              "      <div>\n",
              "<style scoped>\n",
              "    .dataframe tbody tr th:only-of-type {\n",
              "        vertical-align: middle;\n",
              "    }\n",
              "\n",
              "    .dataframe tbody tr th {\n",
              "        vertical-align: top;\n",
              "    }\n",
              "\n",
              "    .dataframe thead th {\n",
              "        text-align: right;\n",
              "    }\n",
              "</style>\n",
              "<table border=\"1\" class=\"dataframe\">\n",
              "  <thead>\n",
              "    <tr style=\"text-align: right;\">\n",
              "      <th></th>\n",
              "      <th>url</th>\n",
              "      <th>title</th>\n",
              "      <th>subtitle</th>\n",
              "      <th>claps</th>\n",
              "      <th>responses</th>\n",
              "      <th>reading_time</th>\n",
              "      <th>publication</th>\n",
              "      <th>date</th>\n",
              "      <th>article</th>\n",
              "    </tr>\n",
              "  </thead>\n",
              "  <tbody>\n",
              "    <tr>\n",
              "      <th>0</th>\n",
              "      <td>https://towardsdatascience.com/a-beginners-gui...</td>\n",
              "      <td>A Beginner’s Guide to Word Embedding with Gens...</td>\n",
              "      <td>A Beginner’s Guide to Word Embedding with Gens...</td>\n",
              "      <td>850</td>\n",
              "      <td>8</td>\n",
              "      <td>8</td>\n",
              "      <td>Towards Data Science</td>\n",
              "      <td>2019-05-30</td>\n",
              "      <td>A Beginner’s Guide to Word Embedding with Gens...</td>\n",
              "    </tr>\n",
              "    <tr>\n",
              "      <th>1</th>\n",
              "      <td>https://towardsdatascience.com/hands-on-graph-...</td>\n",
              "      <td>Hands-on Graph Neural Networks with PyTorch &amp; ...</td>\n",
              "      <td>Hands-on Graph Neural Networks with PyTorch &amp; ...</td>\n",
              "      <td>1100</td>\n",
              "      <td>11</td>\n",
              "      <td>9</td>\n",
              "      <td>Towards Data Science</td>\n",
              "      <td>2019-05-30</td>\n",
              "      <td>Hands-on Graph Neural Networks with PyTorch &amp; ...</td>\n",
              "    </tr>\n",
              "    <tr>\n",
              "      <th>2</th>\n",
              "      <td>https://towardsdatascience.com/how-to-use-ggpl...</td>\n",
              "      <td>How to Use ggplot2 in Python</td>\n",
              "      <td>A Grammar of Graphics for Python</td>\n",
              "      <td>767</td>\n",
              "      <td>1</td>\n",
              "      <td>5</td>\n",
              "      <td>Towards Data Science</td>\n",
              "      <td>2019-05-30</td>\n",
              "      <td>How to Use ggplot2 in PythonA Grammar of Graph...</td>\n",
              "    </tr>\n",
              "    <tr>\n",
              "      <th>3</th>\n",
              "      <td>https://towardsdatascience.com/databricks-how-...</td>\n",
              "      <td>Databricks: How to Save Files in CSV on Your L...</td>\n",
              "      <td>When I work on Python projects dealing…</td>\n",
              "      <td>354</td>\n",
              "      <td>0</td>\n",
              "      <td>4</td>\n",
              "      <td>Towards Data Science</td>\n",
              "      <td>2019-05-30</td>\n",
              "      <td>Databricks: How to Save Files in CSV on Your L...</td>\n",
              "    </tr>\n",
              "    <tr>\n",
              "      <th>4</th>\n",
              "      <td>https://towardsdatascience.com/a-step-by-step-...</td>\n",
              "      <td>A Step-by-Step Implementation of Gradient Desc...</td>\n",
              "      <td>One example of building neural…</td>\n",
              "      <td>211</td>\n",
              "      <td>3</td>\n",
              "      <td>4</td>\n",
              "      <td>Towards Data Science</td>\n",
              "      <td>2019-05-30</td>\n",
              "      <td>A Step-by-Step Implementation of Gradient Desc...</td>\n",
              "    </tr>\n",
              "  </tbody>\n",
              "</table>\n",
              "</div>\n",
              "      <button class=\"colab-df-convert\" onclick=\"convertToInteractive('df-36a08bbd-1674-4829-bce2-6d50208b8ab3')\"\n",
              "              title=\"Convert this dataframe to an interactive table.\"\n",
              "              style=\"display:none;\">\n",
              "\n",
              "  <svg xmlns=\"http://www.w3.org/2000/svg\" height=\"24px\"viewBox=\"0 0 24 24\"\n",
              "       width=\"24px\">\n",
              "    <path d=\"M0 0h24v24H0V0z\" fill=\"none\"/>\n",
              "    <path d=\"M18.56 5.44l.94 2.06.94-2.06 2.06-.94-2.06-.94-.94-2.06-.94 2.06-2.06.94zm-11 1L8.5 8.5l.94-2.06 2.06-.94-2.06-.94L8.5 2.5l-.94 2.06-2.06.94zm10 10l.94 2.06.94-2.06 2.06-.94-2.06-.94-.94-2.06-.94 2.06-2.06.94z\"/><path d=\"M17.41 7.96l-1.37-1.37c-.4-.4-.92-.59-1.43-.59-.52 0-1.04.2-1.43.59L10.3 9.45l-7.72 7.72c-.78.78-.78 2.05 0 2.83L4 21.41c.39.39.9.59 1.41.59.51 0 1.02-.2 1.41-.59l7.78-7.78 2.81-2.81c.8-.78.8-2.07 0-2.86zM5.41 20L4 18.59l7.72-7.72 1.47 1.35L5.41 20z\"/>\n",
              "  </svg>\n",
              "      </button>\n",
              "\n",
              "\n",
              "\n",
              "    <div id=\"df-55094929-cbda-4659-829b-db34ec210f3d\">\n",
              "      <button class=\"colab-df-quickchart\" onclick=\"quickchart('df-55094929-cbda-4659-829b-db34ec210f3d')\"\n",
              "              title=\"Suggest charts.\"\n",
              "              style=\"display:none;\">\n",
              "\n",
              "<svg xmlns=\"http://www.w3.org/2000/svg\" height=\"24px\"viewBox=\"0 0 24 24\"\n",
              "     width=\"24px\">\n",
              "    <g>\n",
              "        <path d=\"M19 3H5c-1.1 0-2 .9-2 2v14c0 1.1.9 2 2 2h14c1.1 0 2-.9 2-2V5c0-1.1-.9-2-2-2zM9 17H7v-7h2v7zm4 0h-2V7h2v10zm4 0h-2v-4h2v4z\"/>\n",
              "    </g>\n",
              "</svg>\n",
              "      </button>\n",
              "    </div>\n",
              "\n",
              "<style>\n",
              "  .colab-df-quickchart {\n",
              "    background-color: #E8F0FE;\n",
              "    border: none;\n",
              "    border-radius: 50%;\n",
              "    cursor: pointer;\n",
              "    display: none;\n",
              "    fill: #1967D2;\n",
              "    height: 32px;\n",
              "    padding: 0 0 0 0;\n",
              "    width: 32px;\n",
              "  }\n",
              "\n",
              "  .colab-df-quickchart:hover {\n",
              "    background-color: #E2EBFA;\n",
              "    box-shadow: 0px 1px 2px rgba(60, 64, 67, 0.3), 0px 1px 3px 1px rgba(60, 64, 67, 0.15);\n",
              "    fill: #174EA6;\n",
              "  }\n",
              "\n",
              "  [theme=dark] .colab-df-quickchart {\n",
              "    background-color: #3B4455;\n",
              "    fill: #D2E3FC;\n",
              "  }\n",
              "\n",
              "  [theme=dark] .colab-df-quickchart:hover {\n",
              "    background-color: #434B5C;\n",
              "    box-shadow: 0px 1px 3px 1px rgba(0, 0, 0, 0.15);\n",
              "    filter: drop-shadow(0px 1px 2px rgba(0, 0, 0, 0.3));\n",
              "    fill: #FFFFFF;\n",
              "  }\n",
              "</style>\n",
              "\n",
              "    <script>\n",
              "      async function quickchart(key) {\n",
              "        const containerElement = document.querySelector('#' + key);\n",
              "        const charts = await google.colab.kernel.invokeFunction(\n",
              "            'suggestCharts', [key], {});\n",
              "      }\n",
              "    </script>\n",
              "\n",
              "      <script>\n",
              "\n",
              "function displayQuickchartButton(domScope) {\n",
              "  let quickchartButtonEl =\n",
              "    domScope.querySelector('#df-55094929-cbda-4659-829b-db34ec210f3d button.colab-df-quickchart');\n",
              "  quickchartButtonEl.style.display =\n",
              "    google.colab.kernel.accessAllowed ? 'block' : 'none';\n",
              "}\n",
              "\n",
              "        displayQuickchartButton(document);\n",
              "      </script>\n",
              "      <style>\n",
              "    .colab-df-container {\n",
              "      display:flex;\n",
              "      flex-wrap:wrap;\n",
              "      gap: 12px;\n",
              "    }\n",
              "\n",
              "    .colab-df-convert {\n",
              "      background-color: #E8F0FE;\n",
              "      border: none;\n",
              "      border-radius: 50%;\n",
              "      cursor: pointer;\n",
              "      display: none;\n",
              "      fill: #1967D2;\n",
              "      height: 32px;\n",
              "      padding: 0 0 0 0;\n",
              "      width: 32px;\n",
              "    }\n",
              "\n",
              "    .colab-df-convert:hover {\n",
              "      background-color: #E2EBFA;\n",
              "      box-shadow: 0px 1px 2px rgba(60, 64, 67, 0.3), 0px 1px 3px 1px rgba(60, 64, 67, 0.15);\n",
              "      fill: #174EA6;\n",
              "    }\n",
              "\n",
              "    [theme=dark] .colab-df-convert {\n",
              "      background-color: #3B4455;\n",
              "      fill: #D2E3FC;\n",
              "    }\n",
              "\n",
              "    [theme=dark] .colab-df-convert:hover {\n",
              "      background-color: #434B5C;\n",
              "      box-shadow: 0px 1px 3px 1px rgba(0, 0, 0, 0.15);\n",
              "      filter: drop-shadow(0px 1px 2px rgba(0, 0, 0, 0.3));\n",
              "      fill: #FFFFFF;\n",
              "    }\n",
              "  </style>\n",
              "\n",
              "      <script>\n",
              "        const buttonEl =\n",
              "          document.querySelector('#df-36a08bbd-1674-4829-bce2-6d50208b8ab3 button.colab-df-convert');\n",
              "        buttonEl.style.display =\n",
              "          google.colab.kernel.accessAllowed ? 'block' : 'none';\n",
              "\n",
              "        async function convertToInteractive(key) {\n",
              "          const element = document.querySelector('#df-36a08bbd-1674-4829-bce2-6d50208b8ab3');\n",
              "          const dataTable =\n",
              "            await google.colab.kernel.invokeFunction('convertToInteractive',\n",
              "                                                     [key], {});\n",
              "          if (!dataTable) return;\n",
              "\n",
              "          const docLinkHtml = 'Like what you see? Visit the ' +\n",
              "            '<a target=\"_blank\" href=https://colab.research.google.com/notebooks/data_table.ipynb>data table notebook</a>'\n",
              "            + ' to learn more about interactive tables.';\n",
              "          element.innerHTML = '';\n",
              "          dataTable['output_type'] = 'display_data';\n",
              "          await google.colab.output.renderOutput(dataTable, element);\n",
              "          const docLink = document.createElement('div');\n",
              "          docLink.innerHTML = docLinkHtml;\n",
              "          element.appendChild(docLink);\n",
              "        }\n",
              "      </script>\n",
              "    </div>\n",
              "  </div>\n"
            ]
          },
          "metadata": {},
          "execution_count": 152
        }
      ],
      "source": [
        "my_data[\"article\"] = my_data[\"title\"] + my_data[\"subtitle\"]\n",
        "my_data.head()"
      ]
    },
    {
      "cell_type": "code",
      "source": [],
      "metadata": {
        "id": "c1VnsteDHPYx"
      },
      "id": "c1VnsteDHPYx",
      "execution_count": null,
      "outputs": []
    },
    {
      "cell_type": "markdown",
      "id": "e64ff0a9",
      "metadata": {
        "papermill": {
          "duration": 0.074873,
          "end_time": "2022-02-28T18:10:09.330438",
          "exception": false,
          "start_time": "2022-02-28T18:10:09.255565",
          "status": "completed"
        },
        "tags": [],
        "id": "e64ff0a9"
      },
      "source": [
        "Lets sort data by number of claps."
      ]
    },
    {
      "cell_type": "code",
      "execution_count": 153,
      "id": "a8a3d5b8",
      "metadata": {
        "execution": {
          "iopub.execute_input": "2022-02-28T18:10:09.476619Z",
          "iopub.status.busy": "2022-02-28T18:10:09.476095Z",
          "iopub.status.idle": "2022-02-28T18:10:09.482681Z",
          "shell.execute_reply": "2022-02-28T18:10:09.482265Z",
          "shell.execute_reply.started": "2022-02-28T18:08:54.334881Z"
        },
        "papermill": {
          "duration": 0.080339,
          "end_time": "2022-02-28T18:10:09.482801",
          "exception": false,
          "start_time": "2022-02-28T18:10:09.402462",
          "status": "completed"
        },
        "tags": [],
        "id": "a8a3d5b8",
        "colab": {
          "base_uri": "https://localhost:8080/",
          "height": 814
        },
        "outputId": "74f98e5e-bb83-48fd-9035-1ca3df1c7c4a"
      },
      "outputs": [
        {
          "output_type": "execute_result",
          "data": {
            "text/plain": [
              "                                                    url  \\\n",
              "4552  https://medium.com/swlh/i-have-15-ideas-to-cha...   \n",
              "1281  https://medium.com/better-marketing/how-to-han...   \n",
              "1003  https://medium.com/swlh/if-you-learn-to-write-...   \n",
              "3592  https://medium.com/swlh/how-to-break-a-negativ...   \n",
              "5933  https://writingcooperative.com/10-things-to-do...   \n",
              "...                                                 ...   \n",
              "3352  https://medium.com/datadriveninvestor/the-bloc...   \n",
              "1402  https://towardsdatascience.com/teaching-a-comp...   \n",
              "3973  https://writingcooperative.com/find-best-fit-b...   \n",
              "181   https://medium.com/datadriveninvestor/revisiti...   \n",
              "5314  https://medium.com/datadriveninvestor/convnets...   \n",
              "\n",
              "                                                  title  \\\n",
              "4552  I Have 15 ideas To Change Your Life. Do you Ha...   \n",
              "1281  How To Handle Other People’s Bad Moods Like a Pro   \n",
              "1003  <strong class=\"markup--strong markup--h3-stron...   \n",
              "3592               How To Break A Negative Thought Loop   \n",
              "5933  10 Things To Do When Medium Doesn’t Curate You...   \n",
              "...                                                 ...   \n",
              "3352                      The Blockchain Care Act (BCA)   \n",
              "1402            Teaching A Computer To Land On The Moon   \n",
              "3973  Find Best-Fit Book Reviewers (and Deal with th...   \n",
              "181                            Revisiting FXI from 2007   \n",
              "5314                         ConvNets & Driverless Cars   \n",
              "\n",
              "                                               subtitle  claps  responses  \\\n",
              "4552  I Have 15 ideas To Change Your Life. Do you Ha...  38000        170   \n",
              "1281  Step 1: Treat difficult emotions like a puzzle...  23000         74   \n",
              "1003                         The secret is in the line.  20000         78   \n",
              "3592  “It’s pretty black-and-white. You either let g...  16400         58   \n",
              "5933          When I have a curation gap, I go into my…  12600        117   \n",
              "...                                                 ...    ...        ...   \n",
              "3352  The comprehensive decentralized health care re...      0          0   \n",
              "1402            Teaching A Computer To Land On The Moon      0          0   \n",
              "3973  Find Best-Fit Book Reviewers (and Deal with th...      0          0   \n",
              "181                             Woulda, coulda, shoulda      0          0   \n",
              "5314                         ConvNets & Driverless Cars      0          0   \n",
              "\n",
              "      reading_time              publication       date  \\\n",
              "4552             5              The Startup 2019-05-20   \n",
              "1281             7         Better Marketing 2019-09-11   \n",
              "1003             6              The Startup 2019-10-14   \n",
              "3592             4              The Startup 2019-07-21   \n",
              "5933             5  The Writing Cooperative 2019-03-18   \n",
              "...            ...                      ...        ...   \n",
              "3352             9     Data Driven Investor 2019-03-25   \n",
              "1402             3     Towards Data Science 2019-11-09   \n",
              "3973             4  The Writing Cooperative 2019-05-24   \n",
              "181              2     Data Driven Investor 2019-05-30   \n",
              "5314             6     Data Driven Investor 2019-03-14   \n",
              "\n",
              "                                                article  \n",
              "4552  I Have 15 ideas To Change Your Life. Do you Ha...  \n",
              "1281  How To Handle Other People’s Bad Moods Like a ...  \n",
              "1003  <strong class=\"markup--strong markup--h3-stron...  \n",
              "3592  How To Break A Negative Thought Loop“It’s pret...  \n",
              "5933  10 Things To Do When Medium Doesn’t Curate You...  \n",
              "...                                                 ...  \n",
              "3352  The Blockchain Care Act (BCA)The comprehensive...  \n",
              "1402  Teaching A Computer To Land On The MoonTeachin...  \n",
              "3973  Find Best-Fit Book Reviewers (and Deal with th...  \n",
              "181     Revisiting FXI from 2007Woulda, coulda, shoulda  \n",
              "5314  ConvNets & Driverless CarsConvNets & Driverles...  \n",
              "\n",
              "[6506 rows x 9 columns]"
            ],
            "text/html": [
              "\n",
              "\n",
              "  <div id=\"df-c51c8797-bd3f-4d5b-bf6b-3e07df6dce03\">\n",
              "    <div class=\"colab-df-container\">\n",
              "      <div>\n",
              "<style scoped>\n",
              "    .dataframe tbody tr th:only-of-type {\n",
              "        vertical-align: middle;\n",
              "    }\n",
              "\n",
              "    .dataframe tbody tr th {\n",
              "        vertical-align: top;\n",
              "    }\n",
              "\n",
              "    .dataframe thead th {\n",
              "        text-align: right;\n",
              "    }\n",
              "</style>\n",
              "<table border=\"1\" class=\"dataframe\">\n",
              "  <thead>\n",
              "    <tr style=\"text-align: right;\">\n",
              "      <th></th>\n",
              "      <th>url</th>\n",
              "      <th>title</th>\n",
              "      <th>subtitle</th>\n",
              "      <th>claps</th>\n",
              "      <th>responses</th>\n",
              "      <th>reading_time</th>\n",
              "      <th>publication</th>\n",
              "      <th>date</th>\n",
              "      <th>article</th>\n",
              "    </tr>\n",
              "  </thead>\n",
              "  <tbody>\n",
              "    <tr>\n",
              "      <th>4552</th>\n",
              "      <td>https://medium.com/swlh/i-have-15-ideas-to-cha...</td>\n",
              "      <td>I Have 15 ideas To Change Your Life. Do you Ha...</td>\n",
              "      <td>I Have 15 ideas To Change Your Life. Do you Ha...</td>\n",
              "      <td>38000</td>\n",
              "      <td>170</td>\n",
              "      <td>5</td>\n",
              "      <td>The Startup</td>\n",
              "      <td>2019-05-20</td>\n",
              "      <td>I Have 15 ideas To Change Your Life. Do you Ha...</td>\n",
              "    </tr>\n",
              "    <tr>\n",
              "      <th>1281</th>\n",
              "      <td>https://medium.com/better-marketing/how-to-han...</td>\n",
              "      <td>How To Handle Other People’s Bad Moods Like a Pro</td>\n",
              "      <td>Step 1: Treat difficult emotions like a puzzle...</td>\n",
              "      <td>23000</td>\n",
              "      <td>74</td>\n",
              "      <td>7</td>\n",
              "      <td>Better Marketing</td>\n",
              "      <td>2019-09-11</td>\n",
              "      <td>How To Handle Other People’s Bad Moods Like a ...</td>\n",
              "    </tr>\n",
              "    <tr>\n",
              "      <th>1003</th>\n",
              "      <td>https://medium.com/swlh/if-you-learn-to-write-...</td>\n",
              "      <td>&lt;strong class=\"markup--strong markup--h3-stron...</td>\n",
              "      <td>The secret is in the line.</td>\n",
              "      <td>20000</td>\n",
              "      <td>78</td>\n",
              "      <td>6</td>\n",
              "      <td>The Startup</td>\n",
              "      <td>2019-10-14</td>\n",
              "      <td>&lt;strong class=\"markup--strong markup--h3-stron...</td>\n",
              "    </tr>\n",
              "    <tr>\n",
              "      <th>3592</th>\n",
              "      <td>https://medium.com/swlh/how-to-break-a-negativ...</td>\n",
              "      <td>How To Break A Negative Thought Loop</td>\n",
              "      <td>“It’s pretty black-and-white. You either let g...</td>\n",
              "      <td>16400</td>\n",
              "      <td>58</td>\n",
              "      <td>4</td>\n",
              "      <td>The Startup</td>\n",
              "      <td>2019-07-21</td>\n",
              "      <td>How To Break A Negative Thought Loop“It’s pret...</td>\n",
              "    </tr>\n",
              "    <tr>\n",
              "      <th>5933</th>\n",
              "      <td>https://writingcooperative.com/10-things-to-do...</td>\n",
              "      <td>10 Things To Do When Medium Doesn’t Curate You...</td>\n",
              "      <td>When I have a curation gap, I go into my…</td>\n",
              "      <td>12600</td>\n",
              "      <td>117</td>\n",
              "      <td>5</td>\n",
              "      <td>The Writing Cooperative</td>\n",
              "      <td>2019-03-18</td>\n",
              "      <td>10 Things To Do When Medium Doesn’t Curate You...</td>\n",
              "    </tr>\n",
              "    <tr>\n",
              "      <th>...</th>\n",
              "      <td>...</td>\n",
              "      <td>...</td>\n",
              "      <td>...</td>\n",
              "      <td>...</td>\n",
              "      <td>...</td>\n",
              "      <td>...</td>\n",
              "      <td>...</td>\n",
              "      <td>...</td>\n",
              "      <td>...</td>\n",
              "    </tr>\n",
              "    <tr>\n",
              "      <th>3352</th>\n",
              "      <td>https://medium.com/datadriveninvestor/the-bloc...</td>\n",
              "      <td>The Blockchain Care Act (BCA)</td>\n",
              "      <td>The comprehensive decentralized health care re...</td>\n",
              "      <td>0</td>\n",
              "      <td>0</td>\n",
              "      <td>9</td>\n",
              "      <td>Data Driven Investor</td>\n",
              "      <td>2019-03-25</td>\n",
              "      <td>The Blockchain Care Act (BCA)The comprehensive...</td>\n",
              "    </tr>\n",
              "    <tr>\n",
              "      <th>1402</th>\n",
              "      <td>https://towardsdatascience.com/teaching-a-comp...</td>\n",
              "      <td>Teaching A Computer To Land On The Moon</td>\n",
              "      <td>Teaching A Computer To Land On The Moon</td>\n",
              "      <td>0</td>\n",
              "      <td>0</td>\n",
              "      <td>3</td>\n",
              "      <td>Towards Data Science</td>\n",
              "      <td>2019-11-09</td>\n",
              "      <td>Teaching A Computer To Land On The MoonTeachin...</td>\n",
              "    </tr>\n",
              "    <tr>\n",
              "      <th>3973</th>\n",
              "      <td>https://writingcooperative.com/find-best-fit-b...</td>\n",
              "      <td>Find Best-Fit Book Reviewers (and Deal with th...</td>\n",
              "      <td>Find Best-Fit Book Reviewers (and Deal with th...</td>\n",
              "      <td>0</td>\n",
              "      <td>0</td>\n",
              "      <td>4</td>\n",
              "      <td>The Writing Cooperative</td>\n",
              "      <td>2019-05-24</td>\n",
              "      <td>Find Best-Fit Book Reviewers (and Deal with th...</td>\n",
              "    </tr>\n",
              "    <tr>\n",
              "      <th>181</th>\n",
              "      <td>https://medium.com/datadriveninvestor/revisiti...</td>\n",
              "      <td>Revisiting FXI from 2007</td>\n",
              "      <td>Woulda, coulda, shoulda</td>\n",
              "      <td>0</td>\n",
              "      <td>0</td>\n",
              "      <td>2</td>\n",
              "      <td>Data Driven Investor</td>\n",
              "      <td>2019-05-30</td>\n",
              "      <td>Revisiting FXI from 2007Woulda, coulda, shoulda</td>\n",
              "    </tr>\n",
              "    <tr>\n",
              "      <th>5314</th>\n",
              "      <td>https://medium.com/datadriveninvestor/convnets...</td>\n",
              "      <td>ConvNets &amp; Driverless Cars</td>\n",
              "      <td>ConvNets &amp; Driverless Cars</td>\n",
              "      <td>0</td>\n",
              "      <td>0</td>\n",
              "      <td>6</td>\n",
              "      <td>Data Driven Investor</td>\n",
              "      <td>2019-03-14</td>\n",
              "      <td>ConvNets &amp; Driverless CarsConvNets &amp; Driverles...</td>\n",
              "    </tr>\n",
              "  </tbody>\n",
              "</table>\n",
              "<p>6506 rows × 9 columns</p>\n",
              "</div>\n",
              "      <button class=\"colab-df-convert\" onclick=\"convertToInteractive('df-c51c8797-bd3f-4d5b-bf6b-3e07df6dce03')\"\n",
              "              title=\"Convert this dataframe to an interactive table.\"\n",
              "              style=\"display:none;\">\n",
              "\n",
              "  <svg xmlns=\"http://www.w3.org/2000/svg\" height=\"24px\"viewBox=\"0 0 24 24\"\n",
              "       width=\"24px\">\n",
              "    <path d=\"M0 0h24v24H0V0z\" fill=\"none\"/>\n",
              "    <path d=\"M18.56 5.44l.94 2.06.94-2.06 2.06-.94-2.06-.94-.94-2.06-.94 2.06-2.06.94zm-11 1L8.5 8.5l.94-2.06 2.06-.94-2.06-.94L8.5 2.5l-.94 2.06-2.06.94zm10 10l.94 2.06.94-2.06 2.06-.94-2.06-.94-.94-2.06-.94 2.06-2.06.94z\"/><path d=\"M17.41 7.96l-1.37-1.37c-.4-.4-.92-.59-1.43-.59-.52 0-1.04.2-1.43.59L10.3 9.45l-7.72 7.72c-.78.78-.78 2.05 0 2.83L4 21.41c.39.39.9.59 1.41.59.51 0 1.02-.2 1.41-.59l7.78-7.78 2.81-2.81c.8-.78.8-2.07 0-2.86zM5.41 20L4 18.59l7.72-7.72 1.47 1.35L5.41 20z\"/>\n",
              "  </svg>\n",
              "      </button>\n",
              "\n",
              "\n",
              "\n",
              "    <div id=\"df-7e1df20d-1b7a-4b31-86c1-2dc475556568\">\n",
              "      <button class=\"colab-df-quickchart\" onclick=\"quickchart('df-7e1df20d-1b7a-4b31-86c1-2dc475556568')\"\n",
              "              title=\"Suggest charts.\"\n",
              "              style=\"display:none;\">\n",
              "\n",
              "<svg xmlns=\"http://www.w3.org/2000/svg\" height=\"24px\"viewBox=\"0 0 24 24\"\n",
              "     width=\"24px\">\n",
              "    <g>\n",
              "        <path d=\"M19 3H5c-1.1 0-2 .9-2 2v14c0 1.1.9 2 2 2h14c1.1 0 2-.9 2-2V5c0-1.1-.9-2-2-2zM9 17H7v-7h2v7zm4 0h-2V7h2v10zm4 0h-2v-4h2v4z\"/>\n",
              "    </g>\n",
              "</svg>\n",
              "      </button>\n",
              "    </div>\n",
              "\n",
              "<style>\n",
              "  .colab-df-quickchart {\n",
              "    background-color: #E8F0FE;\n",
              "    border: none;\n",
              "    border-radius: 50%;\n",
              "    cursor: pointer;\n",
              "    display: none;\n",
              "    fill: #1967D2;\n",
              "    height: 32px;\n",
              "    padding: 0 0 0 0;\n",
              "    width: 32px;\n",
              "  }\n",
              "\n",
              "  .colab-df-quickchart:hover {\n",
              "    background-color: #E2EBFA;\n",
              "    box-shadow: 0px 1px 2px rgba(60, 64, 67, 0.3), 0px 1px 3px 1px rgba(60, 64, 67, 0.15);\n",
              "    fill: #174EA6;\n",
              "  }\n",
              "\n",
              "  [theme=dark] .colab-df-quickchart {\n",
              "    background-color: #3B4455;\n",
              "    fill: #D2E3FC;\n",
              "  }\n",
              "\n",
              "  [theme=dark] .colab-df-quickchart:hover {\n",
              "    background-color: #434B5C;\n",
              "    box-shadow: 0px 1px 3px 1px rgba(0, 0, 0, 0.15);\n",
              "    filter: drop-shadow(0px 1px 2px rgba(0, 0, 0, 0.3));\n",
              "    fill: #FFFFFF;\n",
              "  }\n",
              "</style>\n",
              "\n",
              "    <script>\n",
              "      async function quickchart(key) {\n",
              "        const containerElement = document.querySelector('#' + key);\n",
              "        const charts = await google.colab.kernel.invokeFunction(\n",
              "            'suggestCharts', [key], {});\n",
              "      }\n",
              "    </script>\n",
              "\n",
              "      <script>\n",
              "\n",
              "function displayQuickchartButton(domScope) {\n",
              "  let quickchartButtonEl =\n",
              "    domScope.querySelector('#df-7e1df20d-1b7a-4b31-86c1-2dc475556568 button.colab-df-quickchart');\n",
              "  quickchartButtonEl.style.display =\n",
              "    google.colab.kernel.accessAllowed ? 'block' : 'none';\n",
              "}\n",
              "\n",
              "        displayQuickchartButton(document);\n",
              "      </script>\n",
              "      <style>\n",
              "    .colab-df-container {\n",
              "      display:flex;\n",
              "      flex-wrap:wrap;\n",
              "      gap: 12px;\n",
              "    }\n",
              "\n",
              "    .colab-df-convert {\n",
              "      background-color: #E8F0FE;\n",
              "      border: none;\n",
              "      border-radius: 50%;\n",
              "      cursor: pointer;\n",
              "      display: none;\n",
              "      fill: #1967D2;\n",
              "      height: 32px;\n",
              "      padding: 0 0 0 0;\n",
              "      width: 32px;\n",
              "    }\n",
              "\n",
              "    .colab-df-convert:hover {\n",
              "      background-color: #E2EBFA;\n",
              "      box-shadow: 0px 1px 2px rgba(60, 64, 67, 0.3), 0px 1px 3px 1px rgba(60, 64, 67, 0.15);\n",
              "      fill: #174EA6;\n",
              "    }\n",
              "\n",
              "    [theme=dark] .colab-df-convert {\n",
              "      background-color: #3B4455;\n",
              "      fill: #D2E3FC;\n",
              "    }\n",
              "\n",
              "    [theme=dark] .colab-df-convert:hover {\n",
              "      background-color: #434B5C;\n",
              "      box-shadow: 0px 1px 3px 1px rgba(0, 0, 0, 0.15);\n",
              "      filter: drop-shadow(0px 1px 2px rgba(0, 0, 0, 0.3));\n",
              "      fill: #FFFFFF;\n",
              "    }\n",
              "  </style>\n",
              "\n",
              "      <script>\n",
              "        const buttonEl =\n",
              "          document.querySelector('#df-c51c8797-bd3f-4d5b-bf6b-3e07df6dce03 button.colab-df-convert');\n",
              "        buttonEl.style.display =\n",
              "          google.colab.kernel.accessAllowed ? 'block' : 'none';\n",
              "\n",
              "        async function convertToInteractive(key) {\n",
              "          const element = document.querySelector('#df-c51c8797-bd3f-4d5b-bf6b-3e07df6dce03');\n",
              "          const dataTable =\n",
              "            await google.colab.kernel.invokeFunction('convertToInteractive',\n",
              "                                                     [key], {});\n",
              "          if (!dataTable) return;\n",
              "\n",
              "          const docLinkHtml = 'Like what you see? Visit the ' +\n",
              "            '<a target=\"_blank\" href=https://colab.research.google.com/notebooks/data_table.ipynb>data table notebook</a>'\n",
              "            + ' to learn more about interactive tables.';\n",
              "          element.innerHTML = '';\n",
              "          dataTable['output_type'] = 'display_data';\n",
              "          await google.colab.output.renderOutput(dataTable, element);\n",
              "          const docLink = document.createElement('div');\n",
              "          docLink.innerHTML = docLinkHtml;\n",
              "          element.appendChild(docLink);\n",
              "        }\n",
              "      </script>\n",
              "    </div>\n",
              "  </div>\n"
            ]
          },
          "metadata": {},
          "execution_count": 153
        }
      ],
      "source": [
        "my_data = my_data.sort_values(by=\"claps\", ascending=False)\n",
        "my_data"
      ]
    },
    {
      "cell_type": "markdown",
      "id": "35f3f78d",
      "metadata": {
        "papermill": {
          "duration": 0.071352,
          "end_time": "2022-02-28T18:10:09.624133",
          "exception": false,
          "start_time": "2022-02-28T18:10:09.552781",
          "status": "completed"
        },
        "tags": [],
        "id": "35f3f78d"
      },
      "source": [
        "*Vectorizing* the 'articles' column using **Tf-IDF** vecotizer."
      ]
    },
    {
      "cell_type": "code",
      "execution_count": 154,
      "id": "0926f8ac",
      "metadata": {
        "execution": {
          "iopub.execute_input": "2022-02-28T18:10:09.779366Z",
          "iopub.status.busy": "2022-02-28T18:10:09.778700Z",
          "iopub.status.idle": "2022-02-28T18:10:09.952006Z",
          "shell.execute_reply": "2022-02-28T18:10:09.951564Z",
          "shell.execute_reply.started": "2022-02-28T18:08:54.343749Z"
        },
        "papermill": {
          "duration": 0.256502,
          "end_time": "2022-02-28T18:10:09.952137",
          "exception": false,
          "start_time": "2022-02-28T18:10:09.695635",
          "status": "completed"
        },
        "tags": [],
        "colab": {
          "base_uri": "https://localhost:8080/"
        },
        "id": "0926f8ac",
        "outputId": "a41e4ff4-fd98-48a9-bea4-b44aba90aaae"
      },
      "outputs": [
        {
          "output_type": "stream",
          "name": "stdout",
          "text": [
            "[[0. 0. 0. ... 0. 0. 0.]\n",
            " [0. 0. 0. ... 0. 0. 0.]\n",
            " [0. 0. 0. ... 0. 0. 0.]\n",
            " ...\n",
            " [0. 0. 0. ... 0. 0. 0.]\n",
            " [0. 0. 0. ... 0. 0. 0.]\n",
            " [0. 0. 0. ... 0. 0. 0.]]\n",
            "['00' '000' '002' ... 'zoneand' 'zuckerberg' 'ælf']\n"
          ]
        }
      ],
      "source": [
        "vectorizer = TfidfVectorizer()\n",
        "articles = vectorizer.fit_transform(my_data[\"article\"])\n",
        "print(articles.toarray())  # This will print the TF-IDF matrix\n",
        "print(vectorizer.get_feature_names_out())  # This will print the terms in the matrix"
      ]
    },
    {
      "cell_type": "markdown",
      "id": "8309f596",
      "metadata": {
        "papermill": {
          "duration": 0.069791,
          "end_time": "2022-02-28T18:10:10.092609",
          "exception": false,
          "start_time": "2022-02-28T18:10:10.022818",
          "status": "completed"
        },
        "tags": [],
        "id": "8309f596"
      },
      "source": [
        "## Recommending System Building"
      ]
    },
    {
      "cell_type": "markdown",
      "id": "e3f854a2",
      "metadata": {
        "papermill": {
          "duration": 0.072897,
          "end_time": "2022-02-28T18:10:10.239175",
          "exception": false,
          "start_time": "2022-02-28T18:10:10.166278",
          "status": "completed"
        },
        "tags": [],
        "id": "e3f854a2"
      },
      "source": [
        "Now we can apply NMF on our data and create the recommender. We choose 10 as number of components."
      ]
    },
    {
      "cell_type": "code",
      "execution_count": 155,
      "id": "cc4e4820",
      "metadata": {
        "execution": {
          "iopub.execute_input": "2022-02-28T18:10:10.386180Z",
          "iopub.status.busy": "2022-02-28T18:10:10.385575Z",
          "iopub.status.idle": "2022-02-28T18:10:10.989111Z",
          "shell.execute_reply": "2022-02-28T18:10:10.990051Z",
          "shell.execute_reply.started": "2022-02-28T18:08:54.558799Z"
        },
        "papermill": {
          "duration": 0.679772,
          "end_time": "2022-02-28T18:10:10.990311",
          "exception": false,
          "start_time": "2022-02-28T18:10:10.310539",
          "status": "completed"
        },
        "tags": [],
        "colab": {
          "base_uri": "https://localhost:8080/"
        },
        "id": "cc4e4820",
        "outputId": "6ff43e77-fe6b-46ae-d0d8-ed772e519bc5"
      },
      "outputs": [
        {
          "output_type": "stream",
          "name": "stdout",
          "text": [
            "[[0.00000000e+00 2.93503965e-02 0.00000000e+00 ... 0.00000000e+00\n",
            "  6.62032425e-02 0.00000000e+00]\n",
            " [1.50476596e-04 3.62448307e-02 0.00000000e+00 ... 2.01605829e-02\n",
            "  0.00000000e+00 3.56721707e-03]\n",
            " [1.84462410e-01 1.70335993e-02 4.13237892e-02 ... 2.42823935e-02\n",
            "  4.31853714e-02 2.13975795e-02]\n",
            " ...\n",
            " [7.56495046e-05 3.77984280e-03 3.61246181e-02 ... 1.68827512e-03\n",
            "  3.96737598e-03 5.96043336e-02]\n",
            " [2.33742554e-04 3.17460679e-03 1.52140711e-03 ... 3.81780543e-04\n",
            "  8.18005176e-04 2.03218604e-03]\n",
            " [0.00000000e+00 8.62035487e-05 2.11985691e-04 ... 0.00000000e+00\n",
            "  0.00000000e+00 7.07935036e-04]]\n"
          ]
        }
      ],
      "source": [
        "model = NMF(n_components=10, random_state=0)\n",
        "nmf_features = model.fit_transform(articles)\n",
        "# model.components_\n",
        "print(nmf_features)"
      ]
    },
    {
      "cell_type": "markdown",
      "id": "8f05a14d",
      "metadata": {
        "papermill": {
          "duration": 0.074409,
          "end_time": "2022-02-28T18:10:11.191626",
          "exception": false,
          "start_time": "2022-02-28T18:10:11.117217",
          "status": "completed"
        },
        "tags": [],
        "id": "8f05a14d"
      },
      "source": [
        "Now we will normalize nmf features to a unit norm."
      ]
    },
    {
      "cell_type": "code",
      "execution_count": 156,
      "id": "31e32013",
      "metadata": {
        "execution": {
          "iopub.execute_input": "2022-02-28T18:10:11.347220Z",
          "iopub.status.busy": "2022-02-28T18:10:11.346572Z",
          "iopub.status.idle": "2022-02-28T18:10:11.348940Z",
          "shell.execute_reply": "2022-02-28T18:10:11.348478Z",
          "shell.execute_reply.started": "2022-02-28T18:08:55.426211Z"
        },
        "papermill": {
          "duration": 0.081621,
          "end_time": "2022-02-28T18:10:11.349099",
          "exception": false,
          "start_time": "2022-02-28T18:10:11.267478",
          "status": "completed"
        },
        "tags": [],
        "id": "31e32013",
        "colab": {
          "base_uri": "https://localhost:8080/"
        },
        "outputId": "b7364aed-817c-4101-b953-9564b369db98"
      },
      "outputs": [
        {
          "output_type": "execute_result",
          "data": {
            "text/plain": [
              "array([[0.        , 0.27510746, 0.        , ..., 0.        , 0.62053695,\n",
              "        0.        ],\n",
              "       [0.00361452, 0.87061933, 0.        , ..., 0.48426749, 0.        ,\n",
              "        0.08568637],\n",
              "       [0.86843213, 0.08019263, 0.19454861, ..., 0.11431928, 0.20331277,\n",
              "        0.10073784],\n",
              "       ...,\n",
              "       [0.00108154, 0.05403937, 0.51646368, ..., 0.0241368 , 0.05672048,\n",
              "        0.85214668],\n",
              "       [0.04432215, 0.6019674 , 0.28848848, ..., 0.07239304, 0.15510975,\n",
              "        0.38534213],\n",
              "       [0.        , 0.05419454, 0.1332714 , ..., 0.        , 0.        ,\n",
              "        0.44506539]])"
            ]
          },
          "metadata": {},
          "execution_count": 156
        }
      ],
      "source": [
        "normalized = normalize(nmf_features)\n",
        "normalized"
      ]
    },
    {
      "cell_type": "code",
      "source": [],
      "metadata": {
        "id": "AZwMyRGlHD7z"
      },
      "id": "AZwMyRGlHD7z",
      "execution_count": 156,
      "outputs": []
    },
    {
      "cell_type": "markdown",
      "id": "25f1f7bc",
      "metadata": {
        "papermill": {
          "duration": 0.071523,
          "end_time": "2022-02-28T18:10:11.636585",
          "exception": false,
          "start_time": "2022-02-28T18:10:11.565062",
          "status": "completed"
        },
        "tags": [],
        "id": "25f1f7bc"
      },
      "source": [
        "To make it easy to work with the features, lets create a dataframe containing the features, indexed by title of article."
      ]
    },
    {
      "cell_type": "code",
      "execution_count": 157,
      "id": "dba7bec8",
      "metadata": {
        "execution": {
          "iopub.execute_input": "2022-02-28T18:10:11.784223Z",
          "iopub.status.busy": "2022-02-28T18:10:11.783561Z",
          "iopub.status.idle": "2022-02-28T18:10:11.787729Z",
          "shell.execute_reply": "2022-02-28T18:10:11.788230Z",
          "shell.execute_reply.started": "2022-02-28T18:08:55.435750Z"
        },
        "papermill": {
          "duration": 0.078542,
          "end_time": "2022-02-28T18:10:11.788387",
          "exception": false,
          "start_time": "2022-02-28T18:10:11.709845",
          "status": "completed"
        },
        "tags": [],
        "id": "dba7bec8"
      },
      "outputs": [],
      "source": [
        "df = pd.DataFrame(data=normalized, index=my_data[\"title\"])"
      ]
    },
    {
      "cell_type": "markdown",
      "id": "463e7bb0",
      "metadata": {
        "papermill": {
          "duration": 0.075067,
          "end_time": "2022-02-28T18:10:11.939126",
          "exception": false,
          "start_time": "2022-02-28T18:10:11.864059",
          "status": "completed"
        },
        "tags": [],
        "id": "463e7bb0"
      },
      "source": [
        "The resulted dataframe:"
      ]
    },
    {
      "cell_type": "code",
      "execution_count": 158,
      "id": "872e0585",
      "metadata": {
        "execution": {
          "iopub.execute_input": "2022-02-28T18:10:12.094023Z",
          "iopub.status.busy": "2022-02-28T18:10:12.093067Z",
          "iopub.status.idle": "2022-02-28T18:10:12.117002Z",
          "shell.execute_reply": "2022-02-28T18:10:12.117485Z",
          "shell.execute_reply.started": "2022-02-28T18:08:55.445807Z"
        },
        "papermill": {
          "duration": 0.104279,
          "end_time": "2022-02-28T18:10:12.117656",
          "exception": false,
          "start_time": "2022-02-28T18:10:12.013377",
          "status": "completed"
        },
        "tags": [],
        "colab": {
          "base_uri": "https://localhost:8080/",
          "height": 455
        },
        "id": "872e0585",
        "outputId": "c40c599a-38e0-49b8-ce0d-92d11dab8144"
      },
      "outputs": [
        {
          "output_type": "execute_result",
          "data": {
            "text/plain": [
              "                                                           0         1  \\\n",
              "title                                                                    \n",
              "The myth of visionary leadership                    0.000000  0.000000   \n",
              "After the Empire — TheVampires Return               0.000000  0.008236   \n",
              "A Design Team is Like an Orchard                    0.955803  0.026322   \n",
              "When Less Data is Enough Data                       0.000000  0.000000   \n",
              "Neuroaesthetics: Understanding Our Perception o...  0.000000  0.000000   \n",
              "Mitigation of Climate Change with Machine Learning  0.001033  0.000000   \n",
              "Debugging your tensorflow code right (without s...  0.000000  0.047963   \n",
              "Why Git and Git-LFS is not enough to solve the ...  0.000000  0.148422   \n",
              "How to use Test Driven Development in a Data Sc...  0.000000  0.233076   \n",
              "An evolutionary approach to designing               0.001085  0.999723   \n",
              "\n",
              "                                                           2         3  \\\n",
              "title                                                                    \n",
              "The myth of visionary leadership                    1.000000  0.000000   \n",
              "After the Empire — TheVampires Return               0.999614  0.000000   \n",
              "A Design Team is Like an Orchard                    0.000000  0.095636   \n",
              "When Less Data is Enough Data                       0.000000  0.000000   \n",
              "Neuroaesthetics: Understanding Our Perception o...  0.995856  0.040389   \n",
              "Mitigation of Climate Change with Machine Learning  0.308474  0.000000   \n",
              "Debugging your tensorflow code right (without s...  0.062396  0.000000   \n",
              "Why Git and Git-LFS is not enough to solve the ...  0.132554  0.000000   \n",
              "How to use Test Driven Development in a Data Sc...  0.000000  0.000000   \n",
              "An evolutionary approach to designing               0.000000  0.005281   \n",
              "\n",
              "                                                           4         5  \\\n",
              "title                                                                    \n",
              "The myth of visionary leadership                    0.000000  0.000000   \n",
              "After the Empire — TheVampires Return               0.000000  0.001850   \n",
              "A Design Team is Like an Orchard                    0.065127  0.000000   \n",
              "When Less Data is Enough Data                       0.859874  0.000000   \n",
              "Neuroaesthetics: Understanding Our Perception o...  0.000000  0.000000   \n",
              "Mitigation of Climate Change with Machine Learning  0.000000  0.000000   \n",
              "Debugging your tensorflow code right (without s...  0.000000  0.035934   \n",
              "Why Git and Git-LFS is not enough to solve the ...  0.000000  0.000000   \n",
              "How to use Test Driven Development in a Data Sc...  0.902720  0.000000   \n",
              "An evolutionary approach to designing               0.010338  0.000000   \n",
              "\n",
              "                                                           6         7  \\\n",
              "title                                                                    \n",
              "The myth of visionary leadership                    0.000000  0.000000   \n",
              "After the Empire — TheVampires Return               0.000000  0.026477   \n",
              "A Design Team is Like an Orchard                    0.028602  0.259660   \n",
              "When Less Data is Enough Data                       0.000000  0.510506   \n",
              "Neuroaesthetics: Understanding Our Perception o...  0.013154  0.024104   \n",
              "Mitigation of Climate Change with Machine Learning  0.749193  0.000000   \n",
              "Debugging your tensorflow code right (without s...  0.026597  0.064264   \n",
              "Why Git and Git-LFS is not enough to solve the ...  0.850626  0.466777   \n",
              "How to use Test Driven Development in a Data Sc...  0.000000  0.000000   \n",
              "An evolutionary approach to designing               0.020430  0.000000   \n",
              "\n",
              "                                                           8         9  \n",
              "title                                                                   \n",
              "The myth of visionary leadership                    0.000000  0.000000  \n",
              "After the Empire — TheVampires Return               0.000000  0.000000  \n",
              "A Design Team is Like an Orchard                    0.035199  0.053664  \n",
              "When Less Data is Enough Data                       0.000000  0.000000  \n",
              "Neuroaesthetics: Understanding Our Perception o...  0.000000  0.076718  \n",
              "Mitigation of Climate Change with Machine Learning  0.007043  0.586090  \n",
              "Debugging your tensorflow code right (without s...  0.988888  0.098884  \n",
              "Why Git and Git-LFS is not enough to solve the ...  0.000000  0.137679  \n",
              "How to use Test Driven Development in a Data Sc...  0.000000  0.361625  \n",
              "An evolutionary approach to designing               0.000000  0.000000  "
            ],
            "text/html": [
              "\n",
              "\n",
              "  <div id=\"df-547ea300-9179-4764-84da-6be60ac00afa\">\n",
              "    <div class=\"colab-df-container\">\n",
              "      <div>\n",
              "<style scoped>\n",
              "    .dataframe tbody tr th:only-of-type {\n",
              "        vertical-align: middle;\n",
              "    }\n",
              "\n",
              "    .dataframe tbody tr th {\n",
              "        vertical-align: top;\n",
              "    }\n",
              "\n",
              "    .dataframe thead th {\n",
              "        text-align: right;\n",
              "    }\n",
              "</style>\n",
              "<table border=\"1\" class=\"dataframe\">\n",
              "  <thead>\n",
              "    <tr style=\"text-align: right;\">\n",
              "      <th></th>\n",
              "      <th>0</th>\n",
              "      <th>1</th>\n",
              "      <th>2</th>\n",
              "      <th>3</th>\n",
              "      <th>4</th>\n",
              "      <th>5</th>\n",
              "      <th>6</th>\n",
              "      <th>7</th>\n",
              "      <th>8</th>\n",
              "      <th>9</th>\n",
              "    </tr>\n",
              "    <tr>\n",
              "      <th>title</th>\n",
              "      <th></th>\n",
              "      <th></th>\n",
              "      <th></th>\n",
              "      <th></th>\n",
              "      <th></th>\n",
              "      <th></th>\n",
              "      <th></th>\n",
              "      <th></th>\n",
              "      <th></th>\n",
              "      <th></th>\n",
              "    </tr>\n",
              "  </thead>\n",
              "  <tbody>\n",
              "    <tr>\n",
              "      <th>The myth of visionary leadership</th>\n",
              "      <td>0.000000</td>\n",
              "      <td>0.000000</td>\n",
              "      <td>1.000000</td>\n",
              "      <td>0.000000</td>\n",
              "      <td>0.000000</td>\n",
              "      <td>0.000000</td>\n",
              "      <td>0.000000</td>\n",
              "      <td>0.000000</td>\n",
              "      <td>0.000000</td>\n",
              "      <td>0.000000</td>\n",
              "    </tr>\n",
              "    <tr>\n",
              "      <th>After the Empire — TheVampires Return</th>\n",
              "      <td>0.000000</td>\n",
              "      <td>0.008236</td>\n",
              "      <td>0.999614</td>\n",
              "      <td>0.000000</td>\n",
              "      <td>0.000000</td>\n",
              "      <td>0.001850</td>\n",
              "      <td>0.000000</td>\n",
              "      <td>0.026477</td>\n",
              "      <td>0.000000</td>\n",
              "      <td>0.000000</td>\n",
              "    </tr>\n",
              "    <tr>\n",
              "      <th>A Design Team is Like an Orchard</th>\n",
              "      <td>0.955803</td>\n",
              "      <td>0.026322</td>\n",
              "      <td>0.000000</td>\n",
              "      <td>0.095636</td>\n",
              "      <td>0.065127</td>\n",
              "      <td>0.000000</td>\n",
              "      <td>0.028602</td>\n",
              "      <td>0.259660</td>\n",
              "      <td>0.035199</td>\n",
              "      <td>0.053664</td>\n",
              "    </tr>\n",
              "    <tr>\n",
              "      <th>When Less Data is Enough Data</th>\n",
              "      <td>0.000000</td>\n",
              "      <td>0.000000</td>\n",
              "      <td>0.000000</td>\n",
              "      <td>0.000000</td>\n",
              "      <td>0.859874</td>\n",
              "      <td>0.000000</td>\n",
              "      <td>0.000000</td>\n",
              "      <td>0.510506</td>\n",
              "      <td>0.000000</td>\n",
              "      <td>0.000000</td>\n",
              "    </tr>\n",
              "    <tr>\n",
              "      <th>Neuroaesthetics: Understanding Our Perception of Beauty.</th>\n",
              "      <td>0.000000</td>\n",
              "      <td>0.000000</td>\n",
              "      <td>0.995856</td>\n",
              "      <td>0.040389</td>\n",
              "      <td>0.000000</td>\n",
              "      <td>0.000000</td>\n",
              "      <td>0.013154</td>\n",
              "      <td>0.024104</td>\n",
              "      <td>0.000000</td>\n",
              "      <td>0.076718</td>\n",
              "    </tr>\n",
              "    <tr>\n",
              "      <th>Mitigation of Climate Change with Machine Learning</th>\n",
              "      <td>0.001033</td>\n",
              "      <td>0.000000</td>\n",
              "      <td>0.308474</td>\n",
              "      <td>0.000000</td>\n",
              "      <td>0.000000</td>\n",
              "      <td>0.000000</td>\n",
              "      <td>0.749193</td>\n",
              "      <td>0.000000</td>\n",
              "      <td>0.007043</td>\n",
              "      <td>0.586090</td>\n",
              "    </tr>\n",
              "    <tr>\n",
              "      <th>Debugging your tensorflow code right (without so many painful mistakes)</th>\n",
              "      <td>0.000000</td>\n",
              "      <td>0.047963</td>\n",
              "      <td>0.062396</td>\n",
              "      <td>0.000000</td>\n",
              "      <td>0.000000</td>\n",
              "      <td>0.035934</td>\n",
              "      <td>0.026597</td>\n",
              "      <td>0.064264</td>\n",
              "      <td>0.988888</td>\n",
              "      <td>0.098884</td>\n",
              "    </tr>\n",
              "    <tr>\n",
              "      <th>Why Git and Git-LFS is not enough to solve the Machine Learning Reproducibility crisis</th>\n",
              "      <td>0.000000</td>\n",
              "      <td>0.148422</td>\n",
              "      <td>0.132554</td>\n",
              "      <td>0.000000</td>\n",
              "      <td>0.000000</td>\n",
              "      <td>0.000000</td>\n",
              "      <td>0.850626</td>\n",
              "      <td>0.466777</td>\n",
              "      <td>0.000000</td>\n",
              "      <td>0.137679</td>\n",
              "    </tr>\n",
              "    <tr>\n",
              "      <th>How to use Test Driven Development in a Data Science Workflow</th>\n",
              "      <td>0.000000</td>\n",
              "      <td>0.233076</td>\n",
              "      <td>0.000000</td>\n",
              "      <td>0.000000</td>\n",
              "      <td>0.902720</td>\n",
              "      <td>0.000000</td>\n",
              "      <td>0.000000</td>\n",
              "      <td>0.000000</td>\n",
              "      <td>0.000000</td>\n",
              "      <td>0.361625</td>\n",
              "    </tr>\n",
              "    <tr>\n",
              "      <th>An evolutionary approach to designing</th>\n",
              "      <td>0.001085</td>\n",
              "      <td>0.999723</td>\n",
              "      <td>0.000000</td>\n",
              "      <td>0.005281</td>\n",
              "      <td>0.010338</td>\n",
              "      <td>0.000000</td>\n",
              "      <td>0.020430</td>\n",
              "      <td>0.000000</td>\n",
              "      <td>0.000000</td>\n",
              "      <td>0.000000</td>\n",
              "    </tr>\n",
              "  </tbody>\n",
              "</table>\n",
              "</div>\n",
              "      <button class=\"colab-df-convert\" onclick=\"convertToInteractive('df-547ea300-9179-4764-84da-6be60ac00afa')\"\n",
              "              title=\"Convert this dataframe to an interactive table.\"\n",
              "              style=\"display:none;\">\n",
              "\n",
              "  <svg xmlns=\"http://www.w3.org/2000/svg\" height=\"24px\"viewBox=\"0 0 24 24\"\n",
              "       width=\"24px\">\n",
              "    <path d=\"M0 0h24v24H0V0z\" fill=\"none\"/>\n",
              "    <path d=\"M18.56 5.44l.94 2.06.94-2.06 2.06-.94-2.06-.94-.94-2.06-.94 2.06-2.06.94zm-11 1L8.5 8.5l.94-2.06 2.06-.94-2.06-.94L8.5 2.5l-.94 2.06-2.06.94zm10 10l.94 2.06.94-2.06 2.06-.94-2.06-.94-.94-2.06-.94 2.06-2.06.94z\"/><path d=\"M17.41 7.96l-1.37-1.37c-.4-.4-.92-.59-1.43-.59-.52 0-1.04.2-1.43.59L10.3 9.45l-7.72 7.72c-.78.78-.78 2.05 0 2.83L4 21.41c.39.39.9.59 1.41.59.51 0 1.02-.2 1.41-.59l7.78-7.78 2.81-2.81c.8-.78.8-2.07 0-2.86zM5.41 20L4 18.59l7.72-7.72 1.47 1.35L5.41 20z\"/>\n",
              "  </svg>\n",
              "      </button>\n",
              "\n",
              "\n",
              "\n",
              "    <div id=\"df-4fb40afd-5c6e-4f7b-8acb-c040d8fe54fc\">\n",
              "      <button class=\"colab-df-quickchart\" onclick=\"quickchart('df-4fb40afd-5c6e-4f7b-8acb-c040d8fe54fc')\"\n",
              "              title=\"Suggest charts.\"\n",
              "              style=\"display:none;\">\n",
              "\n",
              "<svg xmlns=\"http://www.w3.org/2000/svg\" height=\"24px\"viewBox=\"0 0 24 24\"\n",
              "     width=\"24px\">\n",
              "    <g>\n",
              "        <path d=\"M19 3H5c-1.1 0-2 .9-2 2v14c0 1.1.9 2 2 2h14c1.1 0 2-.9 2-2V5c0-1.1-.9-2-2-2zM9 17H7v-7h2v7zm4 0h-2V7h2v10zm4 0h-2v-4h2v4z\"/>\n",
              "    </g>\n",
              "</svg>\n",
              "      </button>\n",
              "    </div>\n",
              "\n",
              "<style>\n",
              "  .colab-df-quickchart {\n",
              "    background-color: #E8F0FE;\n",
              "    border: none;\n",
              "    border-radius: 50%;\n",
              "    cursor: pointer;\n",
              "    display: none;\n",
              "    fill: #1967D2;\n",
              "    height: 32px;\n",
              "    padding: 0 0 0 0;\n",
              "    width: 32px;\n",
              "  }\n",
              "\n",
              "  .colab-df-quickchart:hover {\n",
              "    background-color: #E2EBFA;\n",
              "    box-shadow: 0px 1px 2px rgba(60, 64, 67, 0.3), 0px 1px 3px 1px rgba(60, 64, 67, 0.15);\n",
              "    fill: #174EA6;\n",
              "  }\n",
              "\n",
              "  [theme=dark] .colab-df-quickchart {\n",
              "    background-color: #3B4455;\n",
              "    fill: #D2E3FC;\n",
              "  }\n",
              "\n",
              "  [theme=dark] .colab-df-quickchart:hover {\n",
              "    background-color: #434B5C;\n",
              "    box-shadow: 0px 1px 3px 1px rgba(0, 0, 0, 0.15);\n",
              "    filter: drop-shadow(0px 1px 2px rgba(0, 0, 0, 0.3));\n",
              "    fill: #FFFFFF;\n",
              "  }\n",
              "</style>\n",
              "\n",
              "    <script>\n",
              "      async function quickchart(key) {\n",
              "        const containerElement = document.querySelector('#' + key);\n",
              "        const charts = await google.colab.kernel.invokeFunction(\n",
              "            'suggestCharts', [key], {});\n",
              "      }\n",
              "    </script>\n",
              "\n",
              "      <script>\n",
              "\n",
              "function displayQuickchartButton(domScope) {\n",
              "  let quickchartButtonEl =\n",
              "    domScope.querySelector('#df-4fb40afd-5c6e-4f7b-8acb-c040d8fe54fc button.colab-df-quickchart');\n",
              "  quickchartButtonEl.style.display =\n",
              "    google.colab.kernel.accessAllowed ? 'block' : 'none';\n",
              "}\n",
              "\n",
              "        displayQuickchartButton(document);\n",
              "      </script>\n",
              "      <style>\n",
              "    .colab-df-container {\n",
              "      display:flex;\n",
              "      flex-wrap:wrap;\n",
              "      gap: 12px;\n",
              "    }\n",
              "\n",
              "    .colab-df-convert {\n",
              "      background-color: #E8F0FE;\n",
              "      border: none;\n",
              "      border-radius: 50%;\n",
              "      cursor: pointer;\n",
              "      display: none;\n",
              "      fill: #1967D2;\n",
              "      height: 32px;\n",
              "      padding: 0 0 0 0;\n",
              "      width: 32px;\n",
              "    }\n",
              "\n",
              "    .colab-df-convert:hover {\n",
              "      background-color: #E2EBFA;\n",
              "      box-shadow: 0px 1px 2px rgba(60, 64, 67, 0.3), 0px 1px 3px 1px rgba(60, 64, 67, 0.15);\n",
              "      fill: #174EA6;\n",
              "    }\n",
              "\n",
              "    [theme=dark] .colab-df-convert {\n",
              "      background-color: #3B4455;\n",
              "      fill: #D2E3FC;\n",
              "    }\n",
              "\n",
              "    [theme=dark] .colab-df-convert:hover {\n",
              "      background-color: #434B5C;\n",
              "      box-shadow: 0px 1px 3px 1px rgba(0, 0, 0, 0.15);\n",
              "      filter: drop-shadow(0px 1px 2px rgba(0, 0, 0, 0.3));\n",
              "      fill: #FFFFFF;\n",
              "    }\n",
              "  </style>\n",
              "\n",
              "      <script>\n",
              "        const buttonEl =\n",
              "          document.querySelector('#df-547ea300-9179-4764-84da-6be60ac00afa button.colab-df-convert');\n",
              "        buttonEl.style.display =\n",
              "          google.colab.kernel.accessAllowed ? 'block' : 'none';\n",
              "\n",
              "        async function convertToInteractive(key) {\n",
              "          const element = document.querySelector('#df-547ea300-9179-4764-84da-6be60ac00afa');\n",
              "          const dataTable =\n",
              "            await google.colab.kernel.invokeFunction('convertToInteractive',\n",
              "                                                     [key], {});\n",
              "          if (!dataTable) return;\n",
              "\n",
              "          const docLinkHtml = 'Like what you see? Visit the ' +\n",
              "            '<a target=\"_blank\" href=https://colab.research.google.com/notebooks/data_table.ipynb>data table notebook</a>'\n",
              "            + ' to learn more about interactive tables.';\n",
              "          element.innerHTML = '';\n",
              "          dataTable['output_type'] = 'display_data';\n",
              "          await google.colab.output.renderOutput(dataTable, element);\n",
              "          const docLink = document.createElement('div');\n",
              "          docLink.innerHTML = docLinkHtml;\n",
              "          element.appendChild(docLink);\n",
              "        }\n",
              "      </script>\n",
              "    </div>\n",
              "  </div>\n"
            ]
          },
          "metadata": {},
          "execution_count": 158
        }
      ],
      "source": [
        "df.sample(10)"
      ]
    },
    {
      "cell_type": "markdown",
      "id": "bf4ec206",
      "metadata": {
        "execution": {
          "iopub.execute_input": "2022-02-28T17:59:08.248230Z",
          "iopub.status.busy": "2022-02-28T17:59:08.247946Z",
          "iopub.status.idle": "2022-02-28T17:59:08.252340Z",
          "shell.execute_reply": "2022-02-28T17:59:08.251397Z",
          "shell.execute_reply.started": "2022-02-28T17:59:08.248200Z"
        },
        "papermill": {
          "duration": 0.071697,
          "end_time": "2022-02-28T18:10:11.493942",
          "exception": false,
          "start_time": "2022-02-28T18:10:11.422245",
          "status": "completed"
        },
        "tags": [],
        "id": "bf4ec206"
      },
      "source": [
        "## Testing  the system"
      ]
    },
    {
      "cell_type": "markdown",
      "id": "11bde494",
      "metadata": {
        "papermill": {
          "duration": 0.07289,
          "end_time": "2022-02-28T18:10:12.277553",
          "exception": false,
          "start_time": "2022-02-28T18:10:12.204663",
          "status": "completed"
        },
        "tags": [],
        "id": "11bde494"
      },
      "source": [
        "Now lets say if we are currently reading \"Will AI steal UX/UI designers’ job?\" article, which articles will the recommender suggest?"
      ]
    },
    {
      "cell_type": "code",
      "execution_count": 159,
      "id": "b5709798",
      "metadata": {
        "execution": {
          "iopub.execute_input": "2022-02-28T18:10:12.427533Z",
          "iopub.status.busy": "2022-02-28T18:10:12.426949Z",
          "iopub.status.idle": "2022-02-28T18:10:12.434566Z",
          "shell.execute_reply": "2022-02-28T18:10:12.435108Z",
          "shell.execute_reply.started": "2022-02-28T18:08:55.504669Z"
        },
        "papermill": {
          "duration": 0.083784,
          "end_time": "2022-02-28T18:10:12.435258",
          "exception": false,
          "start_time": "2022-02-28T18:10:12.351474",
          "status": "completed"
        },
        "tags": [],
        "id": "b5709798",
        "colab": {
          "base_uri": "https://localhost:8080/"
        },
        "outputId": "c217e0a8-ffb5-459d-9e2c-1dc61e178491"
      },
      "outputs": [
        {
          "output_type": "execute_result",
          "data": {
            "text/plain": [
              "0    0.001311\n",
              "1    0.000000\n",
              "2    0.372555\n",
              "3    0.038256\n",
              "4    0.000000\n",
              "5    0.019070\n",
              "6    0.828303\n",
              "7    0.000000\n",
              "8    0.000000\n",
              "9    0.416279\n",
              "Name: Will AI steal UX/UI designers’ job?, dtype: float64"
            ]
          },
          "metadata": {},
          "execution_count": 159
        }
      ],
      "source": [
        "current = df.loc[\"Will AI steal UX/UI designers’ job?\"]\n",
        "current"
      ]
    },
    {
      "cell_type": "markdown",
      "id": "35c6d4a6",
      "metadata": {
        "papermill": {
          "duration": 0.072382,
          "end_time": "2022-02-28T18:10:12.582713",
          "exception": false,
          "start_time": "2022-02-28T18:10:12.510331",
          "status": "completed"
        },
        "tags": [],
        "id": "35c6d4a6"
      },
      "source": [
        "Calculate similarites using Cosine Similarity."
      ]
    },
    {
      "cell_type": "code",
      "execution_count": 160,
      "id": "269d4936",
      "metadata": {
        "execution": {
          "iopub.execute_input": "2022-02-28T18:10:12.729692Z",
          "iopub.status.busy": "2022-02-28T18:10:12.729150Z",
          "iopub.status.idle": "2022-02-28T18:10:12.740513Z",
          "shell.execute_reply": "2022-02-28T18:10:12.740945Z",
          "shell.execute_reply.started": "2022-02-28T18:08:55.527260Z"
        },
        "papermill": {
          "duration": 0.087785,
          "end_time": "2022-02-28T18:10:12.741117",
          "exception": false,
          "start_time": "2022-02-28T18:10:12.653332",
          "status": "completed"
        },
        "tags": [],
        "id": "269d4936",
        "colab": {
          "base_uri": "https://localhost:8080/"
        },
        "outputId": "4bb2efa4-07fe-49c9-83df-d3f6bb868d18"
      },
      "outputs": [
        {
          "output_type": "execute_result",
          "data": {
            "text/plain": [
              "title\n",
              "I Have 15 ideas To Change Your Life. Do you Have 5 Minutes?                                                   0.014004\n",
              "How To Handle Other People’s Bad Moods Like a Pro                                                             0.035917\n",
              "<strong class=\"markup--strong markup--h3-strong\">If You Learn to Write, You Can Change Your Life.</strong>    0.122612\n",
              "How To Break A Negative Thought Loop                                                                          0.137757\n",
              "10 Things To Do When Medium Doesn’t Curate Your Articles                                                      0.049973\n",
              "                                                                                                                ...   \n",
              "The Blockchain Care Act (BCA)                                                                                 0.331071\n",
              "Teaching A Computer To Land On The Moon                                                                       0.365653\n",
              "Find Best-Fit Book Reviewers (and Deal with the Bad Ones!)                                                    0.560938\n",
              "Revisiting FXI from 2007                                                                                      0.271622\n",
              "ConvNets & Driverless Cars                                                                                    0.967031\n",
              "Length: 6506, dtype: float64"
            ]
          },
          "metadata": {},
          "execution_count": 160
        }
      ],
      "source": [
        "similarities = df.dot(current)\n",
        "similarities"
      ]
    },
    {
      "cell_type": "markdown",
      "id": "cd57b1d5",
      "metadata": {
        "papermill": {
          "duration": 0.072285,
          "end_time": "2022-02-28T18:10:12.939446",
          "exception": false,
          "start_time": "2022-02-28T18:10:12.867161",
          "status": "completed"
        },
        "tags": [],
        "id": "cd57b1d5"
      },
      "source": [
        "We will merge the original dataframe with the resulted dataframe in order to sort by number of claps."
      ]
    },
    {
      "cell_type": "code",
      "execution_count": 161,
      "id": "a927611d",
      "metadata": {
        "execution": {
          "iopub.execute_input": "2022-02-28T18:10:13.093673Z",
          "iopub.status.busy": "2022-02-28T18:10:13.093120Z",
          "iopub.status.idle": "2022-02-28T18:10:13.111829Z",
          "shell.execute_reply": "2022-02-28T18:10:13.112392Z",
          "shell.execute_reply.started": "2022-02-28T18:08:55.545671Z"
        },
        "papermill": {
          "duration": 0.098689,
          "end_time": "2022-02-28T18:10:13.112544",
          "exception": false,
          "start_time": "2022-02-28T18:10:13.013855",
          "status": "completed"
        },
        "tags": [],
        "colab": {
          "base_uri": "https://localhost:8080/",
          "height": 237
        },
        "id": "a927611d",
        "outputId": "7927fdc1-142d-401b-9fbb-a51435b0aa3a"
      },
      "outputs": [
        {
          "output_type": "execute_result",
          "data": {
            "text/plain": [
              "                                                           0  claps\n",
              "title                                                              \n",
              "Live Prediction of Traffic Accident Risks Using...  0.983473    716\n",
              "How Machine Learning Made Me Fall in Love with ...  0.993988    304\n",
              "Will AI steal UX/UI designers’ job?                 1.000000    218\n",
              "Predicting Unknown Unknowns                         0.997006    142\n",
              "On Value Functions, Theory of Life and Bellmann...  0.996322     61"
            ],
            "text/html": [
              "\n",
              "\n",
              "  <div id=\"df-d9e98c5b-49c1-4f84-8cc5-a63034e6a318\">\n",
              "    <div class=\"colab-df-container\">\n",
              "      <div>\n",
              "<style scoped>\n",
              "    .dataframe tbody tr th:only-of-type {\n",
              "        vertical-align: middle;\n",
              "    }\n",
              "\n",
              "    .dataframe tbody tr th {\n",
              "        vertical-align: top;\n",
              "    }\n",
              "\n",
              "    .dataframe thead th {\n",
              "        text-align: right;\n",
              "    }\n",
              "</style>\n",
              "<table border=\"1\" class=\"dataframe\">\n",
              "  <thead>\n",
              "    <tr style=\"text-align: right;\">\n",
              "      <th></th>\n",
              "      <th>0</th>\n",
              "      <th>claps</th>\n",
              "    </tr>\n",
              "    <tr>\n",
              "      <th>title</th>\n",
              "      <th></th>\n",
              "      <th></th>\n",
              "    </tr>\n",
              "  </thead>\n",
              "  <tbody>\n",
              "    <tr>\n",
              "      <th>Live Prediction of Traffic Accident Risks Using Machine Learning and Google Maps</th>\n",
              "      <td>0.983473</td>\n",
              "      <td>716</td>\n",
              "    </tr>\n",
              "    <tr>\n",
              "      <th>How Machine Learning Made Me Fall in Love with the WNBA</th>\n",
              "      <td>0.993988</td>\n",
              "      <td>304</td>\n",
              "    </tr>\n",
              "    <tr>\n",
              "      <th>Will AI steal UX/UI designers’ job?</th>\n",
              "      <td>1.000000</td>\n",
              "      <td>218</td>\n",
              "    </tr>\n",
              "    <tr>\n",
              "      <th>Predicting Unknown Unknowns</th>\n",
              "      <td>0.997006</td>\n",
              "      <td>142</td>\n",
              "    </tr>\n",
              "    <tr>\n",
              "      <th>On Value Functions, Theory of Life and Bellmann Equation Gymnastics</th>\n",
              "      <td>0.996322</td>\n",
              "      <td>61</td>\n",
              "    </tr>\n",
              "  </tbody>\n",
              "</table>\n",
              "</div>\n",
              "      <button class=\"colab-df-convert\" onclick=\"convertToInteractive('df-d9e98c5b-49c1-4f84-8cc5-a63034e6a318')\"\n",
              "              title=\"Convert this dataframe to an interactive table.\"\n",
              "              style=\"display:none;\">\n",
              "\n",
              "  <svg xmlns=\"http://www.w3.org/2000/svg\" height=\"24px\"viewBox=\"0 0 24 24\"\n",
              "       width=\"24px\">\n",
              "    <path d=\"M0 0h24v24H0V0z\" fill=\"none\"/>\n",
              "    <path d=\"M18.56 5.44l.94 2.06.94-2.06 2.06-.94-2.06-.94-.94-2.06-.94 2.06-2.06.94zm-11 1L8.5 8.5l.94-2.06 2.06-.94-2.06-.94L8.5 2.5l-.94 2.06-2.06.94zm10 10l.94 2.06.94-2.06 2.06-.94-2.06-.94-.94-2.06-.94 2.06-2.06.94z\"/><path d=\"M17.41 7.96l-1.37-1.37c-.4-.4-.92-.59-1.43-.59-.52 0-1.04.2-1.43.59L10.3 9.45l-7.72 7.72c-.78.78-.78 2.05 0 2.83L4 21.41c.39.39.9.59 1.41.59.51 0 1.02-.2 1.41-.59l7.78-7.78 2.81-2.81c.8-.78.8-2.07 0-2.86zM5.41 20L4 18.59l7.72-7.72 1.47 1.35L5.41 20z\"/>\n",
              "  </svg>\n",
              "      </button>\n",
              "\n",
              "\n",
              "\n",
              "    <div id=\"df-900b4f79-e9b5-44da-8733-365ad6bcb5df\">\n",
              "      <button class=\"colab-df-quickchart\" onclick=\"quickchart('df-900b4f79-e9b5-44da-8733-365ad6bcb5df')\"\n",
              "              title=\"Suggest charts.\"\n",
              "              style=\"display:none;\">\n",
              "\n",
              "<svg xmlns=\"http://www.w3.org/2000/svg\" height=\"24px\"viewBox=\"0 0 24 24\"\n",
              "     width=\"24px\">\n",
              "    <g>\n",
              "        <path d=\"M19 3H5c-1.1 0-2 .9-2 2v14c0 1.1.9 2 2 2h14c1.1 0 2-.9 2-2V5c0-1.1-.9-2-2-2zM9 17H7v-7h2v7zm4 0h-2V7h2v10zm4 0h-2v-4h2v4z\"/>\n",
              "    </g>\n",
              "</svg>\n",
              "      </button>\n",
              "    </div>\n",
              "\n",
              "<style>\n",
              "  .colab-df-quickchart {\n",
              "    background-color: #E8F0FE;\n",
              "    border: none;\n",
              "    border-radius: 50%;\n",
              "    cursor: pointer;\n",
              "    display: none;\n",
              "    fill: #1967D2;\n",
              "    height: 32px;\n",
              "    padding: 0 0 0 0;\n",
              "    width: 32px;\n",
              "  }\n",
              "\n",
              "  .colab-df-quickchart:hover {\n",
              "    background-color: #E2EBFA;\n",
              "    box-shadow: 0px 1px 2px rgba(60, 64, 67, 0.3), 0px 1px 3px 1px rgba(60, 64, 67, 0.15);\n",
              "    fill: #174EA6;\n",
              "  }\n",
              "\n",
              "  [theme=dark] .colab-df-quickchart {\n",
              "    background-color: #3B4455;\n",
              "    fill: #D2E3FC;\n",
              "  }\n",
              "\n",
              "  [theme=dark] .colab-df-quickchart:hover {\n",
              "    background-color: #434B5C;\n",
              "    box-shadow: 0px 1px 3px 1px rgba(0, 0, 0, 0.15);\n",
              "    filter: drop-shadow(0px 1px 2px rgba(0, 0, 0, 0.3));\n",
              "    fill: #FFFFFF;\n",
              "  }\n",
              "</style>\n",
              "\n",
              "    <script>\n",
              "      async function quickchart(key) {\n",
              "        const containerElement = document.querySelector('#' + key);\n",
              "        const charts = await google.colab.kernel.invokeFunction(\n",
              "            'suggestCharts', [key], {});\n",
              "      }\n",
              "    </script>\n",
              "\n",
              "      <script>\n",
              "\n",
              "function displayQuickchartButton(domScope) {\n",
              "  let quickchartButtonEl =\n",
              "    domScope.querySelector('#df-900b4f79-e9b5-44da-8733-365ad6bcb5df button.colab-df-quickchart');\n",
              "  quickchartButtonEl.style.display =\n",
              "    google.colab.kernel.accessAllowed ? 'block' : 'none';\n",
              "}\n",
              "\n",
              "        displayQuickchartButton(document);\n",
              "      </script>\n",
              "      <style>\n",
              "    .colab-df-container {\n",
              "      display:flex;\n",
              "      flex-wrap:wrap;\n",
              "      gap: 12px;\n",
              "    }\n",
              "\n",
              "    .colab-df-convert {\n",
              "      background-color: #E8F0FE;\n",
              "      border: none;\n",
              "      border-radius: 50%;\n",
              "      cursor: pointer;\n",
              "      display: none;\n",
              "      fill: #1967D2;\n",
              "      height: 32px;\n",
              "      padding: 0 0 0 0;\n",
              "      width: 32px;\n",
              "    }\n",
              "\n",
              "    .colab-df-convert:hover {\n",
              "      background-color: #E2EBFA;\n",
              "      box-shadow: 0px 1px 2px rgba(60, 64, 67, 0.3), 0px 1px 3px 1px rgba(60, 64, 67, 0.15);\n",
              "      fill: #174EA6;\n",
              "    }\n",
              "\n",
              "    [theme=dark] .colab-df-convert {\n",
              "      background-color: #3B4455;\n",
              "      fill: #D2E3FC;\n",
              "    }\n",
              "\n",
              "    [theme=dark] .colab-df-convert:hover {\n",
              "      background-color: #434B5C;\n",
              "      box-shadow: 0px 1px 3px 1px rgba(0, 0, 0, 0.15);\n",
              "      filter: drop-shadow(0px 1px 2px rgba(0, 0, 0, 0.3));\n",
              "      fill: #FFFFFF;\n",
              "    }\n",
              "  </style>\n",
              "\n",
              "      <script>\n",
              "        const buttonEl =\n",
              "          document.querySelector('#df-d9e98c5b-49c1-4f84-8cc5-a63034e6a318 button.colab-df-convert');\n",
              "        buttonEl.style.display =\n",
              "          google.colab.kernel.accessAllowed ? 'block' : 'none';\n",
              "\n",
              "        async function convertToInteractive(key) {\n",
              "          const element = document.querySelector('#df-d9e98c5b-49c1-4f84-8cc5-a63034e6a318');\n",
              "          const dataTable =\n",
              "            await google.colab.kernel.invokeFunction('convertToInteractive',\n",
              "                                                     [key], {});\n",
              "          if (!dataTable) return;\n",
              "\n",
              "          const docLinkHtml = 'Like what you see? Visit the ' +\n",
              "            '<a target=\"_blank\" href=https://colab.research.google.com/notebooks/data_table.ipynb>data table notebook</a>'\n",
              "            + ' to learn more about interactive tables.';\n",
              "          element.innerHTML = '';\n",
              "          dataTable['output_type'] = 'display_data';\n",
              "          await google.colab.output.renderOutput(dataTable, element);\n",
              "          const docLink = document.createElement('div');\n",
              "          docLink.innerHTML = docLinkHtml;\n",
              "          element.appendChild(docLink);\n",
              "        }\n",
              "      </script>\n",
              "    </div>\n",
              "  </div>\n"
            ]
          },
          "metadata": {},
          "execution_count": 161
        }
      ],
      "source": [
        "sims = pd.DataFrame(similarities.nlargest(10))\n",
        "sims = sims.merge(my_data[[\"title\", \"claps\"]], how='inner', on=\"title\")\n",
        "sims.set_index(\"title\", drop=True, inplace=True)\n",
        "sims.sort_values(by=\"claps\", ascending=False).head()"
      ]
    }
  ],
  "metadata": {
    "kernelspec": {
      "display_name": "Python 3",
      "language": "python",
      "name": "python3"
    },
    "language_info": {
      "codemirror_mode": {
        "name": "ipython",
        "version": 3
      },
      "file_extension": ".py",
      "mimetype": "text/x-python",
      "name": "python",
      "nbconvert_exporter": "python",
      "pygments_lexer": "ipython3",
      "version": "3.7.12"
    },
    "papermill": {
      "default_parameters": {},
      "duration": 33.538974,
      "end_time": "2022-02-28T18:10:14.193868",
      "environment_variables": {},
      "exception": null,
      "input_path": "__notebook__.ipynb",
      "output_path": "__notebook__.ipynb",
      "parameters": {},
      "start_time": "2022-02-28T18:09:40.654894",
      "version": "2.3.3"
    },
    "colab": {
      "provenance": []
    }
  },
  "nbformat": 4,
  "nbformat_minor": 5
}